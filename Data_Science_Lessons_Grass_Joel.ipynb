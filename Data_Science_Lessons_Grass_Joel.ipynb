{
 "cells": [
  {
   "cell_type": "markdown",
   "metadata": {},
   "source": [
    "# Вектора"
   ]
  },
  {
   "cell_type": "code",
   "execution_count": 1,
   "metadata": {},
   "outputs": [],
   "source": [
    "import functools\n",
    "import math\n",
    "import matplotlib.pyplot as plt\n",
    "import collections as clt\n",
    "import random as rnd\n",
    "\n",
    "import ipywidgets as widgets\n",
    "from ipywidgets import interact, interact_manual"
   ]
  },
  {
   "cell_type": "markdown",
   "metadata": {},
   "source": [
    "Суммирование векторов"
   ]
  },
  {
   "cell_type": "code",
   "execution_count": 2,
   "metadata": {},
   "outputs": [],
   "source": [
    "def vector_add(v,w):\n",
    "    return [v_i + w_i\n",
    "            for v_i, w_i in zip(v,w)]"
   ]
  },
  {
   "cell_type": "code",
   "execution_count": 3,
   "metadata": {},
   "outputs": [
    {
     "data": {
      "text/plain": [
       "[3, 3]"
      ]
     },
     "execution_count": 3,
     "metadata": {},
     "output_type": "execute_result"
    }
   ],
   "source": [
    "vector_add([1,2],[2,1])"
   ]
  },
  {
   "cell_type": "markdown",
   "metadata": {},
   "source": [
    "Разница векторов"
   ]
  },
  {
   "cell_type": "code",
   "execution_count": 4,
   "metadata": {},
   "outputs": [],
   "source": [
    "def vector_subtract(v,w):\n",
    "    return [v_i - w_i\n",
    "           for v_i, w_i in zip(v,w)]"
   ]
  },
  {
   "cell_type": "code",
   "execution_count": 5,
   "metadata": {},
   "outputs": [
    {
     "data": {
      "text/plain": [
       "[-2, 10, 4, -2]"
      ]
     },
     "execution_count": 5,
     "metadata": {},
     "output_type": "execute_result"
    }
   ],
   "source": [
    "vector_subtract([0,15,10,-1],[2,5,6,1])"
   ]
  },
  {
   "cell_type": "markdown",
   "metadata": {},
   "source": [
    "Покомпонентная сумма списка векторов"
   ]
  },
  {
   "cell_type": "code",
   "execution_count": 6,
   "metadata": {},
   "outputs": [],
   "source": [
    "def vector_sum(vectors):\n",
    "    return functools.reduce(vector_add,vectors)"
   ]
  },
  {
   "cell_type": "code",
   "execution_count": 7,
   "metadata": {},
   "outputs": [
    {
     "data": {
      "text/plain": [
       "[12, 14]"
      ]
     },
     "execution_count": 7,
     "metadata": {},
     "output_type": "execute_result"
    }
   ],
   "source": [
    "vector_sum([[1,2],[1,2],[10,10]])"
   ]
  },
  {
   "cell_type": "markdown",
   "metadata": {},
   "source": [
    "Умножение вектора на скаляр"
   ]
  },
  {
   "cell_type": "code",
   "execution_count": 8,
   "metadata": {},
   "outputs": [],
   "source": [
    "def scalar_multiply(scalar,vector):\n",
    "    return [scalar * v_i for v_i in vector]"
   ]
  },
  {
   "cell_type": "code",
   "execution_count": 9,
   "metadata": {},
   "outputs": [
    {
     "data": {
      "text/plain": [
       "[5, 5]"
      ]
     },
     "execution_count": 9,
     "metadata": {},
     "output_type": "execute_result"
    }
   ],
   "source": [
    "scalar_multiply(5,[1,1])"
   ]
  },
  {
   "cell_type": "markdown",
   "metadata": {},
   "source": [
    "Вычисление покомпонентного среднего значения списка векторов(одинакового размера)"
   ]
  },
  {
   "cell_type": "code",
   "execution_count": 10,
   "metadata": {},
   "outputs": [],
   "source": [
    "def vector_mean(vectors):\n",
    "    n = len(vectors)\n",
    "    return scalar_multiply(1/n, vector_sum(vectors))"
   ]
  },
  {
   "cell_type": "code",
   "execution_count": 11,
   "metadata": {},
   "outputs": [
    {
     "data": {
      "text/plain": [
       "[4.0, 4.666666666666666]"
      ]
     },
     "execution_count": 11,
     "metadata": {},
     "output_type": "execute_result"
    }
   ],
   "source": [
    "vector_mean([[1,2],[1,2],[10,10]])"
   ]
  },
  {
   "cell_type": "markdown",
   "metadata": {},
   "source": [
    "Вычисление скалярного произведения. \n",
    "Скалярное произведение - сумма двух векторов их покомпонентных произведений"
   ]
  },
  {
   "cell_type": "code",
   "execution_count": 12,
   "metadata": {},
   "outputs": [],
   "source": [
    "def dot(v,w):\n",
    "    return sum(v_i * w_i\n",
    "              for v_i , w_i in zip(v,w))"
   ]
  },
  {
   "cell_type": "code",
   "execution_count": 13,
   "metadata": {},
   "outputs": [
    {
     "data": {
      "text/plain": [
       "2"
      ]
     },
     "execution_count": 13,
     "metadata": {},
     "output_type": "execute_result"
    }
   ],
   "source": [
    "dot([1,1],[1,1])"
   ]
  },
  {
   "cell_type": "markdown",
   "metadata": {},
   "source": [
    "Вычисление суммы квадратов вектора"
   ]
  },
  {
   "cell_type": "code",
   "execution_count": 14,
   "metadata": {},
   "outputs": [],
   "source": [
    "def sum_of_squares(v):\n",
    "    return dot(v,v)"
   ]
  },
  {
   "cell_type": "code",
   "execution_count": 15,
   "metadata": {},
   "outputs": [
    {
     "data": {
      "text/plain": [
       "8"
      ]
     },
     "execution_count": 15,
     "metadata": {},
     "output_type": "execute_result"
    }
   ],
   "source": [
    "sum_of_squares([2,2])"
   ]
  },
  {
   "cell_type": "markdown",
   "metadata": {},
   "source": [
    "Вычисление величины(длинны) вектора"
   ]
  },
  {
   "cell_type": "code",
   "execution_count": 16,
   "metadata": {},
   "outputs": [],
   "source": [
    "def magnitude(v):\n",
    "    return math.sqrt(sum_of_squares(v))"
   ]
  },
  {
   "cell_type": "code",
   "execution_count": 17,
   "metadata": {},
   "outputs": [
    {
     "data": {
      "text/plain": [
       "2.8284271247461903"
      ]
     },
     "execution_count": 17,
     "metadata": {},
     "output_type": "execute_result"
    }
   ],
   "source": [
    "magnitude([2,2])"
   ]
  },
  {
   "attachments": {
    "_auto_0": {
     "image/png": "[encoded data removed]"
    }
   },
   "cell_type": "markdown",
   "metadata": {},
   "source": [
    "#### Растстояние между двумя векторами по формуле\n",
    "> ![_auto_0](attachment:_auto_0)"
   ]
  },
  {
   "cell_type": "markdown",
   "metadata": {},
   "source": [
    "Квадрат расстояние между двумя векторами"
   ]
  },
  {
   "cell_type": "code",
   "execution_count": 18,
   "metadata": {},
   "outputs": [],
   "source": [
    "def squared_distance(v,w):\n",
    "    return sum_of_squares(vector_subtract(v,w))"
   ]
  },
  {
   "cell_type": "code",
   "execution_count": 19,
   "metadata": {},
   "outputs": [
    {
     "data": {
      "text/plain": [
       "0"
      ]
     },
     "execution_count": 19,
     "metadata": {},
     "output_type": "execute_result"
    }
   ],
   "source": [
    "squared_distance([2,2],[2,2])"
   ]
  },
  {
   "cell_type": "markdown",
   "metadata": {},
   "source": [
    "расстояние между двумя векторами"
   ]
  },
  {
   "cell_type": "code",
   "execution_count": 20,
   "metadata": {},
   "outputs": [],
   "source": [
    "def distance(v,w):\n",
    "    return math.sqrt(squared_distance(v,w))"
   ]
  },
  {
   "cell_type": "code",
   "execution_count": 21,
   "metadata": {},
   "outputs": [
    {
     "data": {
      "text/plain": [
       "19.79898987322333"
      ]
     },
     "execution_count": 21,
     "metadata": {},
     "output_type": "execute_result"
    }
   ],
   "source": [
    "distance([15,1],[1,15])"
   ]
  },
  {
   "cell_type": "markdown",
   "metadata": {},
   "source": [
    "# Матрицы"
   ]
  },
  {
   "cell_type": "markdown",
   "metadata": {},
   "source": [
    "Образование формы матрицы:\n"
   ]
  },
  {
   "cell_type": "code",
   "execution_count": 22,
   "metadata": {},
   "outputs": [],
   "source": [
    "def shape(A):\n",
    "    num_rows = len(A)\n",
    "    num_cols = len(A[0]) if A else 0\n",
    "    return num_rows , num_cols"
   ]
  },
  {
   "cell_type": "code",
   "execution_count": 23,
   "metadata": {},
   "outputs": [
    {
     "data": {
      "text/plain": [
       "(3, 3)"
      ]
     },
     "execution_count": 23,
     "metadata": {},
     "output_type": "execute_result"
    }
   ],
   "source": [
    "Matrix = [[1,1,1],\n",
    "          [0,1,0],\n",
    "          [1,0,1]]\n",
    "shape(Matrix)"
   ]
  },
  {
   "cell_type": "markdown",
   "metadata": {},
   "source": [
    "Получение строк и столбцов матрицы"
   ]
  },
  {
   "cell_type": "code",
   "execution_count": 24,
   "metadata": {},
   "outputs": [],
   "source": [
    "def get_row(A,i):\n",
    "    '''Get i matrix row'''\n",
    "    return A[i]\n",
    "def get_column(A,j):\n",
    "    '''Get j matrix column'''\n",
    "    return [A_i[j]\n",
    "           for A_i in A]"
   ]
  },
  {
   "cell_type": "code",
   "execution_count": 25,
   "metadata": {},
   "outputs": [],
   "source": [
    "A = [[1,0,1],\n",
    "    [0,1,0],\n",
    "    [1,0,1]]"
   ]
  },
  {
   "cell_type": "code",
   "execution_count": 26,
   "metadata": {},
   "outputs": [
    {
     "data": {
      "text/plain": [
       "[0, 1, 0]"
      ]
     },
     "execution_count": 26,
     "metadata": {},
     "output_type": "execute_result"
    }
   ],
   "source": [
    "get_row(A,1)"
   ]
  },
  {
   "cell_type": "code",
   "execution_count": 27,
   "metadata": {},
   "outputs": [
    {
     "data": {
      "text/plain": [
       "[1, 0, 1]"
      ]
     },
     "execution_count": 27,
     "metadata": {},
     "output_type": "execute_result"
    }
   ],
   "source": [
    "get_column(A,0)"
   ]
  },
  {
   "cell_type": "markdown",
   "metadata": {},
   "source": [
    "Генерация Матрицы по размеру"
   ]
  },
  {
   "cell_type": "code",
   "execution_count": 28,
   "metadata": {},
   "outputs": [],
   "source": [
    "def make_matrix(num_rows,num_cols,entry_fn):\n",
    "    '''Matrix generation by num_rows, num_cols and entry function'''\n",
    "    return [[entry_fn(i,j)\n",
    "           for j in range(num_cols)]\n",
    "           for i in range(num_rows)]"
   ]
  },
  {
   "cell_type": "markdown",
   "metadata": {},
   "source": [
    "Входная функция для функции генерации представленной выше, которая\n",
    "позволяет генерировать единичную матрицу(единицы по диагонали)"
   ]
  },
  {
   "cell_type": "code",
   "execution_count": 29,
   "metadata": {},
   "outputs": [],
   "source": [
    "def is_diagonal(i,j):\n",
    "    return 1 if i == j else 0"
   ]
  },
  {
   "cell_type": "code",
   "execution_count": 30,
   "metadata": {},
   "outputs": [],
   "source": [
    "identity_matrix = make_matrix(3,3, is_diagonal)"
   ]
  },
  {
   "cell_type": "code",
   "execution_count": 31,
   "metadata": {},
   "outputs": [
    {
     "data": {
      "text/plain": [
       "[[1, 0, 0], [0, 1, 0], [0, 0, 1]]"
      ]
     },
     "execution_count": 31,
     "metadata": {},
     "output_type": "execute_result"
    }
   ],
   "source": [
    "identity_matrix"
   ]
  },
  {
   "cell_type": "markdown",
   "metadata": {},
   "source": [
    "Матрицы мы можем использовать для представления набора данных, состоящего из нескольких векторов, рассматривая каждую строку матрицы в качестве вектора. Например, если имеются данные о росте, весе и возрасте n количества человек, то их можно представить в виде матрицы n x 3. "
   ]
  },
  {
   "cell_type": "code",
   "execution_count": 32,
   "metadata": {},
   "outputs": [],
   "source": [
    "#Пример для примечание выше в случае с данными о трёх особях\n",
    "data = [[175,68,40],\n",
    "        [163,64,26],\n",
    "        [193,78,19]]"
   ]
  },
  {
   "cell_type": "markdown",
   "metadata": {},
   "source": [
    "Матрицу размера n x k можно использовать в качестве линейной функции, которая отображает k-мерные векторы в n-мерные. Некоторые методы и концепции при анализе данных будут использовать подобные функции."
   ]
  },
  {
   "cell_type": "markdown",
   "metadata": {},
   "source": [
    "### Матрицу \n",
    "также можно использовать для двоичного представления дружеских связей. Например в социальной сети друзей можно представить в виде множества пар\n",
    "(i,j). Альтернативная реализация подразумевает создание матрицы смежности, т.е такой матрицы А, что элемент А[i][j] равен 1, если узлы i и j связаны между собой и следовательно 0 в противных случаях."
   ]
  },
  {
   "cell_type": "code",
   "execution_count": 33,
   "metadata": {},
   "outputs": [],
   "source": [
    "#Вид взаимосвязей между аккаунтами приведённом в начале примечания выше\n",
    "friendships = [(0,1),(0,2),(1,2),(1,3),(2,3),(3,4),\n",
    "              (4,5),(5,6),(5,7),(6,8),(7,8),(8,9)]"
   ]
  },
  {
   "cell_type": "code",
   "execution_count": 34,
   "metadata": {},
   "outputs": [],
   "source": [
    "#Вид взаимосвязей между аккаунтами приведнном\n",
    "#с помощью матрицы из примечания выше\n",
    "\n",
    "# пользователь: 1 2 3 4 5\n",
    "friendships = [[0,1,1,1,0],\n",
    "               [1,0,1,0,1],\n",
    "               [1,0,1,1,1],\n",
    "               [0,1,1,1,0],\n",
    "               [0,1,1,0,0],]\n",
    "\n",
    "#При отсутсвии каких либо взаимосвязей:\n",
    "\n",
    "friendships = [[0,0,0,0,0],\n",
    "               [0,0,0,0,0],\n",
    "               [0,0,0,0,0],\n",
    "               [0,0,0,0,0],\n",
    "               [0,0,0,0,0],]\n",
    "\n",
    "#Все друг с другом дружат:\n",
    "\n",
    "friendships = [[1,1,1,1,1],\n",
    "               [1,1,1,1,1],\n",
    "               [1,1,1,1,1],\n",
    "               [1,1,1,1,1],\n",
    "               [1,1,1,1,1],]"
   ]
  },
  {
   "cell_type": "markdown",
   "metadata": {},
   "source": [
    "# СТАТИСТИКА"
   ]
  },
  {
   "cell_type": "markdown",
   "metadata": {},
   "source": [
    "## Описание одиночного набора данных\n",
    "\n",
    "Любой набор данных очевидным образом характеризует сам себя"
   ]
  },
  {
   "cell_type": "code",
   "execution_count": 35,
   "metadata": {},
   "outputs": [],
   "source": [
    "# Число друзей\n",
    "num_friends = [100,49,41,40,25]\n",
    "\n",
    "#будем использовать далее случайным образом сгенерированную выборку \n",
    "#данных для наглядности\n",
    "\n",
    "#примечание: в данном примере не будет использоваться библиотека numpy\n",
    "#которую зачастую для подобных задач и используют\n",
    "\n",
    "num_friends = []\n",
    "for i in range(0,100):\n",
    "    n = rnd.randint(5,100)\n",
    "    num_friends.append(n)\n",
    "#print(num_friends)"
   ]
  },
  {
   "cell_type": "markdown",
   "metadata": {},
   "source": [
    "Такое описание может оказаться наилучшим для сравнительного небольшого набора данных. Но для более объемного набора данных это будет выглядеть очень громоздко и, скорее всего, непрозрачно.\n",
    "\n",
    "Просто представьте , что у вас перед глазами список и 1 млн чисел.\n",
    "По этой причине пользуются статистиками(стат.показателями), при помощи которых обобщают и передают информацию о существенных признаках, присутствующих в данных."
   ]
  },
  {
   "cell_type": "markdown",
   "metadata": {},
   "source": [
    "Вначале вы помещаете количество друзей на гистограмму, испольуя словарь Counter и метод plt.bar"
   ]
  },
  {
   "cell_type": "code",
   "execution_count": 36,
   "metadata": {},
   "outputs": [
    {
     "name": "stdout",
     "output_type": "stream",
     "text": [
      "Counter({25: 3, 30: 3, 52: 3, 84: 3, 59: 3, 67: 3, 54: 3, 63: 3, 36: 3, 57: 2, 26: 2, 18: 2, 90: 2, 89: 2, 60: 2, 80: 2, 47: 2, 41: 2, 96: 2, 53: 2, 75: 2, 22: 2, 77: 2, 78: 2, 46: 2, 12: 1, 43: 1, 14: 1, 62: 1, 85: 1, 56: 1, 5: 1, 91: 1, 92: 1, 16: 1, 42: 1, 9: 1, 39: 1, 40: 1, 8: 1, 15: 1, 48: 1, 50: 1, 37: 1, 21: 1, 99: 1, 93: 1, 49: 1, 24: 1, 69: 1, 32: 1, 64: 1, 7: 1, 29: 1, 34: 1, 10: 1, 71: 1, 61: 1, 81: 1, 38: 1, 27: 1, 44: 1, 100: 1, 31: 1, 88: 1, 55: 1})\n"
     ]
    },
    {
     "data": {
      "image/png": "[encoded data removed]",
      "text/plain": [
       "<Figure size 432x288 with 1 Axes>"
      ]
     },
     "metadata": {
      "needs_background": "light"
     },
     "output_type": "display_data"
    }
   ],
   "source": [
    "friend_counts = clt.Counter(num_friends)\n",
    "print(friend_counts)\n",
    "xs = range(101)                     # максимальное значение 100\n",
    "ys = [friend_counts[x] for x in xs] # высота - количество друзей\n",
    "plt.bar(xs,ys)\n",
    "plt.axis([0,101,0,25])\n",
    "plt.title('Гистограмма количества друзей')\n",
    "plt.xlabel('Количество друзей')\n",
    "plt.ylabel('Количество людей')\n",
    "plt.show()"
   ]
  },
  {
   "attachments": {
    "image.png": {
     "image/png": "[encoded data removed]"
    }
   },
   "cell_type": "markdown",
   "metadata": {},
   "source": [
    "\n",
    "\n",
    "![image.png](attachment:image.png)\n",
    "\n",
    "На диаграмме выше красным выделены самые \"дружелюбные\", однако в некоторых случаях подобные данные можно считать за аномальные, в сравнении с общей тенденцией.\n",
    "\n",
    "К сожалению, эта диаграмма мало информативна, поэтмоу мы приступим к форматированию некоторых статистик.\n",
    "\n",
    "самый простой статистикой является число точек данных:"
   ]
  },
  {
   "cell_type": "code",
   "execution_count": 37,
   "metadata": {},
   "outputs": [],
   "source": [
    "num_points = len(num_friends) # число точек"
   ]
  },
  {
   "cell_type": "code",
   "execution_count": 38,
   "metadata": {},
   "outputs": [
    {
     "data": {
      "text/plain": [
       "100"
      ]
     },
     "execution_count": 38,
     "metadata": {},
     "output_type": "execute_result"
    }
   ],
   "source": [
    "num_points"
   ]
  },
  {
   "cell_type": "markdown",
   "metadata": {},
   "source": [
    "Кроме этого, могут быть интересны наибольшие и наименьшие значения:"
   ]
  },
  {
   "cell_type": "code",
   "execution_count": 39,
   "metadata": {},
   "outputs": [
    {
     "name": "stdout",
     "output_type": "stream",
     "text": [
      "100\n",
      "5\n"
     ]
    }
   ],
   "source": [
    "largest_value = max(num_friends)\n",
    "print(largest_value)\n",
    "smallest_value = min(num_friends)\n",
    "print(smallest_value)"
   ]
  },
  {
   "cell_type": "markdown",
   "metadata": {},
   "source": [
    "А также полезными могут быть:"
   ]
  },
  {
   "cell_type": "code",
   "execution_count": 40,
   "metadata": {},
   "outputs": [],
   "source": [
    "sorted_values = sorted(num_friends) #Отсортированные значение\n",
    "smallest_value = sorted_values[0] #Минимум отсортированного списка\n",
    "second_smallest_value = sorted_values[1] #Следующий минимум\n",
    "second_largest_value = sorted_values[-2] #Второй максимум с конца"
   ]
  },
  {
   "cell_type": "code",
   "execution_count": 41,
   "metadata": {},
   "outputs": [
    {
     "name": "stdout",
     "output_type": "stream",
     "text": [
      "[5, 7, 8, 9, 10, 12, 14, 15, 16, 18, 18, 21, 22, 22, 24, 25, 25, 25, 26, 26, 27, 29, 30, 30, 30, 31, 32, 34, 36, 36, 36, 37, 38, 39, 40, 41, 41, 42, 43, 44, 46, 46, 47, 47, 48, 49, 50, 52, 52, 52, 53, 53, 54, 54, 54, 55, 56, 57, 57, 59, 59, 59, 60, 60, 61, 62, 63, 63, 63, 64, 67, 67, 67, 69, 71, 75, 75, 77, 77, 78, 78, 80, 80, 81, 84, 84, 84, 85, 88, 89, 89, 90, 90, 91, 92, 93, 96, 96, 99, 100] \n",
      " min =  5 \n",
      " second smallest =  7 \n",
      " second largest =  99\n"
     ]
    }
   ],
   "source": [
    "print(sorted_values, '\\n', 'min = ',smallest_value,\n",
    "      '\\n second smallest = ',second_smallest_value,\n",
    "      '\\n second largest = ',second_largest_value,)"
   ]
  },
  {
   "cell_type": "markdown",
   "metadata": {},
   "source": [
    "## Показатели центра распределения "
   ]
  },
  {
   "cell_type": "markdown",
   "metadata": {},
   "source": [
    "Обычно мы хотим иметь некоторое предствавление о том, где находится центр данных. Чаще всего для этих целей используется среднее(или среденее арифметическое) значение, которое берется как сумма данных, деленная на их количество."
   ]
  },
  {
   "cell_type": "code",
   "execution_count": 42,
   "metadata": {},
   "outputs": [],
   "source": [
    "# среднее значение\n",
    "def mean(x):\n",
    "    return sum(x) / len(x)"
   ]
  },
  {
   "cell_type": "code",
   "execution_count": 43,
   "metadata": {},
   "outputs": [
    {
     "data": {
      "text/plain": [
       "52.11"
      ]
     },
     "execution_count": 43,
     "metadata": {},
     "output_type": "execute_result"
    }
   ],
   "source": [
    "mean(num_friends)"
   ]
  },
  {
   "cell_type": "markdown",
   "metadata": {},
   "source": [
    "Для двух точек средней является точка, лежащая посередине между ними. По мере добавление других точек срендеее значение будет смещаться в разные стороны, в зависимости от значения каждого новой точки"
   ]
  },
  {
   "cell_type": "markdown",
   "metadata": {},
   "source": [
    "Кроме среднего значнеие, иногда может понадобиться медиана, которая является ближайщим к центру значением (если число точек данных нечетное) либо средним арифметическим, взятым как полусумма двух ближайщих к центру значнией(если число точек чётное)."
   ]
  },
  {
   "cell_type": "markdown",
   "metadata": {},
   "source": [
    "##### обратите внимание \n",
    "Медиана, в отличии от среднего значего - не зависит от каждого значение в наборе данных. Например, если сделать наибольшую точку еще больше( или найменьшую точку еще меньше), то срединные точки останутся неизменными, следовательно, и медиана не изменится."
   ]
  },
  {
   "cell_type": "markdown",
   "metadata": {},
   "source": [
    "Функция вычисления медианы имеет более сложную реализацию, чем можно было бы ожидать, в основном из-за того, что приходится учитывать случай с четностью:"
   ]
  },
  {
   "cell_type": "code",
   "execution_count": 44,
   "metadata": {},
   "outputs": [],
   "source": [
    "def median(v):\n",
    "    '''Возвращает ближайшее к середине значение для v'''\n",
    "    n = len(v)\n",
    "    sorted_v = sorted(v)\n",
    "    midpoint = n // 2 # Индекс серединного значения\n",
    "    \n",
    "    if n % 2 == 1:\n",
    "        #Если нечетное, вернуть серединное значение\n",
    "        return sorted_v[midpoint]\n",
    "    else:\n",
    "        #Если четное, вернуть среднее 2=х серединных значений\n",
    "        lo = midpoint - 1\n",
    "        hi = midpoint\n",
    "        return(sorted_v[lo] + sorted_v[hi]) / 2\n"
   ]
  },
  {
   "cell_type": "code",
   "execution_count": 45,
   "metadata": {},
   "outputs": [
    {
     "data": {
      "text/plain": [
       "52.5"
      ]
     },
     "execution_count": 45,
     "metadata": {},
     "output_type": "execute_result"
    }
   ],
   "source": [
    "median(num_friends)"
   ]
  },
  {
   "cell_type": "markdown",
   "metadata": {},
   "source": [
    "Среднее значение, конечно, вычисляется проще, и оно несколько варьирует по мере изменения данных. Если у нас есть n точек, и одна из них увелиилась на любое малое число e , то среднее обязательно увеличится на e/n. (Этот факт делает его подверженным разного рода ухищрениям при калькуляции)\n",
    "А для того чтобы найти медиану, данные нужно сперва отсортировать, и изменение одной из точек на любое малое число e может увиличить медиану на величину равную e, меньшую чем е, либо не изменить совсем( в зависимости от набора данных).\n"
   ]
  },
  {
   "cell_type": "code",
   "execution_count": 46,
   "metadata": {},
   "outputs": [
    {
     "name": "stdout",
     "output_type": "stream",
     "text": [
      "18 \n",
      " 31 \n",
      " 75 \n",
      " 89 \n",
      "\n"
     ]
    }
   ],
   "source": [
    "#Квантиль\n",
    "\n",
    "def quantile(x,p):\n",
    "    '''Возвращает значение в х , соответсвующее р-ому проценту данных'''\n",
    "    p_index = int(p*len(x))\n",
    "    return sorted(x)[p_index]\n",
    "\n",
    "print(quantile(num_friends,0.10), '\\n',\n",
    "      quantile(num_friends,0.25), '\\n',\n",
    "      quantile(num_friends,0.75), '\\n',\n",
    "      quantile(num_friends,0.90), '\\n',)"
   ]
  },
  {
   "cell_type": "markdown",
   "metadata": {},
   "source": [
    "Реже испольщуют моду - значение или значения, которые встречаются наиболее часто:"
   ]
  },
  {
   "cell_type": "code",
   "execution_count": 47,
   "metadata": {},
   "outputs": [
    {
     "name": "stdout",
     "output_type": "stream",
     "text": [
      "[25, 30, 52, 84, 59, 67, 54, 63, 36]\n"
     ]
    }
   ],
   "source": [
    "#Мода\n",
    "def mode(x):\n",
    "    counts = clt.Counter(x)\n",
    "    max_count = max(counts.values())\n",
    "    return [x_i for x_i, count in counts.items()\n",
    "           if count == max_count]\n",
    "print(mode(num_friends))"
   ]
  },
  {
   "cell_type": "markdown",
   "metadata": {},
   "source": [
    "## Показатели вариации\n",
    "\n",
    "Показатели вариации отражают меру изменчивости данных. Как правило, это статистические показатели, для которых значения, близкие к нулю, означиют полное отсутсвие изменчиваости, а большие значения(чтобы это ни означало) - очени большую изменчивость. Например, самым простым показателем является размах, который определяется как разница между максимальным и минимальным значениями данных:"
   ]
  },
  {
   "cell_type": "code",
   "execution_count": 48,
   "metadata": {},
   "outputs": [
    {
     "data": {
      "text/plain": [
       "95"
      ]
     },
     "execution_count": 48,
     "metadata": {},
     "output_type": "execute_result"
    }
   ],
   "source": [
    "#рамзах\n",
    "#слово range в Python уже используется, поэтмоу берем другое\n",
    "def data_range(x):\n",
    "    return max(x) - min(x)\n",
    "data_range(num_friends)"
   ]
  },
  {
   "cell_type": "markdown",
   "metadata": {},
   "source": [
    "Размах равен нулю, когда max и min одинаковые, что происходит только  тогда, когда все элементы х равны между собой, и значит, изменчивость в данных отсутствует. И наоборот, когда размах широкий, то максимальное много больше минимального, и изменчивость в данных высокая."
   ]
  },
  {
   "cell_type": "markdown",
   "metadata": {},
   "source": [
    "Более точным показателем вариации является дисперсия, вычисляемаема как:"
   ]
  },
  {
   "cell_type": "code",
   "execution_count": 49,
   "metadata": {},
   "outputs": [],
   "source": [
    "#Сумма квадратов\n",
    "def sum_of_squares(x):\n",
    "    return sum(x * x for x in x)\n",
    "def de_mean(x):\n",
    "    x_bar = mean(x)\n",
    "    return [x_i - x_bar for x_i in x]\n",
    "\n",
    "#Вариация\n",
    "def variance(x):\n",
    "    n=len(x)\n",
    "    deviations = de_mean(x)    \n",
    "    return sum_of_squares(deviations) / (n-1)"
   ]
  },
  {
   "cell_type": "markdown",
   "metadata": {},
   "source": [
    "При этом, в каких бы единицах ни измерялись данные (в \"друзьях\", например), все показатели центра распределения вычиляются в тех же самых единицах измерения. Аналогичная ситуация и с размахом. Дисперсия же измеряется в единицах, которые представляют собой квадрат исходных единиц(\"Друзья в квадрате\"). \n",
    "Поскольку такие единицы измерения трудно интерпретировать, то вместо дисперсии мы будем чаще обращаться к стандартному отклонению( корень из дисперсии ): "
   ]
  },
  {
   "cell_type": "code",
   "execution_count": 50,
   "metadata": {},
   "outputs": [],
   "source": [
    " #стандартное отклонение\n",
    "\n",
    "def standard_deviation(x):\n",
    "    return math.sqrt(variance(x))"
   ]
  },
  {
   "cell_type": "code",
   "execution_count": 51,
   "metadata": {},
   "outputs": [
    {
     "data": {
      "text/plain": [
       "25.32890511537035"
      ]
     },
     "execution_count": 51,
     "metadata": {},
     "output_type": "execute_result"
    }
   ],
   "source": [
    "standard_deviation(num_friends)"
   ]
  },
  {
   "cell_type": "markdown",
   "metadata": {},
   "source": [
    "Размах и стандартное отклонение так же чувствительны к выбросам, как и среднее. На том же самом примере, если бы у самого дружелюбного пользователя было 200 друзей вместо 100, то стандартное отклонение было бы на 60% больше.\n",
    "\n",
    "Более надежной альтернативой является вычисление интерквартильного размаха или разности между значнием, соответствующим 75% и значением, соотвествующим 25% данных:"
   ]
  },
  {
   "cell_type": "code",
   "execution_count": 52,
   "metadata": {},
   "outputs": [
    {
     "data": {
      "text/plain": [
       "44"
      ]
     },
     "execution_count": 52,
     "metadata": {},
     "output_type": "execute_result"
    }
   ],
   "source": [
    "# интерквартильный размах\n",
    "\n",
    "def interquartile_range(x):\n",
    "    return quantile(x,0.75) - quantile(x,0.25)\n",
    "\n",
    "interquartile_range(num_friends)"
   ]
  },
  {
   "cell_type": "markdown",
   "metadata": {},
   "source": [
    "## Корреляция"
   ]
  },
  {
   "cell_type": "markdown",
   "metadata": {},
   "source": [
    "Корреляция - взаимная связь, соотношение"
   ]
  },
  {
   "cell_type": "markdown",
   "metadata": {},
   "source": [
    "Сперва обратимся к ковариации - парному аналогу дисперсии. В отличие от дсперсии, коорая измеряет отклонение одной переменной от ее среднего, ковариация измеряет совместное отклонение двух переменныъ от своих средних.\n",
    "\n",
    "Будем разбиратьсоя на случайно сгенерированном массиве данных о времени посещения каждым пользователем сайта и количестве друзей."
   ]
  },
  {
   "cell_type": "code",
   "execution_count": 53,
   "metadata": {},
   "outputs": [
    {
     "name": "stdout",
     "output_type": "stream",
     "text": [
      "[12, 29, 42, 22, 45, 22, 30, 4, 17, 24, 13, 47, 45, 18, 12, 12, 23, 6, 48, 8, 0, 13, 29, 25, 33, 21, 29, 8, 31, 28, 32, 20, 49, 23, 44, 30, 43, 29, 6, 16, 18, 34, 31, 23, 10, 12, 34, 17, 41, 6, 22, 9, 30, 22, 48, 26, 32, 19, 20, 8, 22, 30, 45, 30, 13, 31, 43, 35, 39, 5, 31, 35, 23, 21, 19, 7, 21, 4, 39, 11, 41, 18, 33, 14, 10, 17, 50, 3, 11, 6, 27, 40, 39, 15, 33, 13, 0, 24, 40, 36]\n",
      "[5, 7, 8, 9, 10, 12, 14, 15, 16, 18, 18, 21, 22, 22, 24, 25, 25, 25, 26, 26, 27, 29, 30, 30, 30, 31, 32, 34, 36, 36, 36, 37, 38, 39, 40, 41, 41, 42, 43, 44, 46, 46, 47, 47, 48, 49, 50, 52, 52, 52, 53, 53, 54, 54, 54, 55, 56, 57, 57, 59, 59, 59, 60, 60, 61, 62, 63, 63, 63, 64, 67, 67, 67, 69, 71, 75, 75, 77, 77, 78, 78, 80, 80, 81, 84, 84, 84, 85, 88, 89, 89, 90, 90, 91, 92, 93, 96, 96, 99, 100]\n"
     ]
    }
   ],
   "source": [
    "num_time = []\n",
    "for i in range(0,100):\n",
    "    n = rnd.randint(0,50)\n",
    "    num_time.append(n)\n",
    "\n",
    "\n",
    "#num_time = sorted(num_time) #Отсортированные значение\n",
    "#rnd.shuffle(num_time)\n",
    "print(num_time)\n",
    "\n",
    "num_friends = sorted(num_friends)\n",
    "print(num_friends)"
   ]
  },
  {
   "cell_type": "code",
   "execution_count": 54,
   "metadata": {},
   "outputs": [
    {
     "data": {
      "text/plain": [
       "641.5534343434343"
      ]
     },
     "execution_count": 54,
     "metadata": {},
     "output_type": "execute_result"
    }
   ],
   "source": [
    "def covariance(x,y):\n",
    "    '''Ковариация между х и у'''\n",
    "    n = len(x)\n",
    "    return dot(de_mean(x), de_mean(y)) / (n-1)\n",
    "\n",
    "covariance(num_friends, num_friends)"
   ]
  },
  {
   "cell_type": "markdown",
   "metadata": {},
   "source": [
    "Когда соответсующие элементы векторов х и у оба одновременно выше или ниже своих средних, то в сумму входит положительное число. Когда один из них находится выше своего среднего, а другой - ниже, то в сумму входит отрицательное число. \n",
    "\n",
    "### следовательно\n",
    "\"Большая\" положительная ковариация означает, что х стремится принимать большие значение при больших значенияъ у и малые значения - при малых значениях у. \"Большая\" отрицательная ковариация означает обратное - х стремится приимать малые значения при большом у и наоборот.\n",
    "!Ковариация, близкая к нулю, означает, что такой связи не существует."
   ]
  },
  {
   "cell_type": "markdown",
   "metadata": {},
   "source": [
    "Тем не менее, этот показатель бывает трудно интерпретировать, и вот почему:\n",
    "\n",
    "* Единицами измерения ковариации являются произведения единиц входящих переменных(например, число друзей и минуты в день), которые трудно понять (что такое \"друг в минуту в день?\")\n",
    "\n",
    "* Если бы у каждого пользователя было в 2 раза больше друзей (но такое же количество минут, проведённых на сайте), то ковариация была бы в 2 раза больше. Однако в некотором смысле степень взаимосвязи между ними осталась бы на прежнем уровне. Говоря иначе, трудно определить, что считать \"большой\" ковариацией.\n",
    "\n",
    "Поэтому чаще обращаются к корреляции, в которой ковариация распределяется между стандартными отклонениями обеих переменных:"
   ]
  },
  {
   "cell_type": "code",
   "execution_count": 55,
   "metadata": {},
   "outputs": [
    {
     "data": {
      "text/plain": [
       "-0.03324496559858277"
      ]
     },
     "execution_count": 55,
     "metadata": {},
     "output_type": "execute_result"
    }
   ],
   "source": [
    "#Корреляция\n",
    "def correlation(x,y):\n",
    "    \"\"\"Определение корреляции между двумя массивами данных.\n",
    "    Передаёт ноль в случае отсутсвия созависимости\"\"\"\n",
    "    stdev_x = standard_deviation(x)\n",
    "    stdev_y = standard_deviation(y)\n",
    "    if stdev_x > 0 and stdev_y >0:\n",
    "        return covariance(x,y) / stdev_x / stdev_y\n",
    "    else:\n",
    "        return 0 # если переменные не меняются, то корреляция равна нулю\n",
    "    \n",
    "correlation(num_friends, num_time)"
   ]
  },
  {
   "cell_type": "markdown",
   "metadata": {},
   "source": [
    "Корреляция является безразмерной величиной, её значения всегда лежат между -1 (идеальная антикорреляция) и 1 (идеальная корреляция). Так, в случае выше с ~0.06 (в моем случае вышел именно такой результат, ибо он основывается на ранее случайно сгенерированных данных, в вашем случае будет иначе) результат представляет собой относительно очень слабую положительную корреляцию.\n",
    "\n",
    "Однако нам нужно эти данные проверить. \n",
    "\n",
    "Человек, у которого 100 друзей, но проводит он на сайте всего одну минуту в день является аномалией и подлежит очистке из набора данных."
   ]
  },
  {
   "cell_type": "code",
   "execution_count": 56,
   "metadata": {},
   "outputs": [
    {
     "data": {
      "text/plain": [
       "-0.051865147926668305"
      ]
     },
     "execution_count": 56,
     "metadata": {},
     "output_type": "execute_result"
    }
   ],
   "source": [
    "outlier = num_friends.index(100) #Индекс аномалии\n",
    "\n",
    "#фильтрация\n",
    "num_friends_good = [x\n",
    "                   for i, x in enumerate(num_friends)\n",
    "                   if i != outlier]\n",
    "daily_minutes_good = [x\n",
    "                     for i,x in enumerate(num_time)\n",
    "                     if i != outlier]\n",
    "correlation(num_friends_good, daily_minutes_good)"
   ]
  },
  {
   "cell_type": "code",
   "execution_count": 57,
   "metadata": {},
   "outputs": [
    {
     "data": {
      "text/plain": [
       "<function matplotlib.pyplot.show(*args, **kw)>"
      ]
     },
     "execution_count": 57,
     "metadata": {},
     "output_type": "execute_result"
    },
    {
     "data": {
      "image/png": "[encoded data removed]",
      "text/plain": [
       "<Figure size 432x288 with 1 Axes>"
      ]
     },
     "metadata": {
      "needs_background": "light"
     },
     "output_type": "display_data"
    }
   ],
   "source": [
    "plt.scatter(num_friends, num_time)\n",
    "plt.show\n",
    "plt.scatter(num_friends_good, daily_minutes_good, color='red')\n",
    "plt.show"
   ]
  },
  {
   "cell_type": "markdown",
   "metadata": {},
   "source": [
    "# Теория вероятностей\n",
    "\n",
    "Два события Е и F являются зависимыми, если какое-то знание о наступлении события Е дает нам информацию о наступлении события F, и наоборот. В противном случае они независимые.\n",
    "\n",
    "Например, если мы дважды бросаем уравновешенную монету, то знание о том, что в первый раз выпадет орел, не дает никакой информации о том, что орел выпадает и во второй раз. Эти события независимые. С другой стороны, знание о том, что в первый раз выпадет орел, определенно, дает нам информацию о том, выпадут ли решки оба раза. (Если в первый раз выпадет орел, то, конечно же, исключаем случай, когда оба раза выпадают решки). Оба эти события зависимые.\n",
    "\n",
    "С точки зрения математики, говорят, что два события E и F независимы, если вероятность их совместного наступления равна произведению вероятностей их наступления по отдельности:\n",
    "\n",
    "> P(E,F) = P(E)P(F)\n",
    "\n",
    "В примере с бросанием монеты вероятность события, что в первый раз выпадет орел, равна 1/2, вероятность события, что оба раза выпадут решки, равна 1/4, а вероятность, что в первый раз выпадет орел и оба раза выпадут решки, равна нулю."
   ]
  },
  {
   "cell_type": "markdown",
   "metadata": {},
   "source": [
    "## Условная вероятность\n",
    "\n",
    "Повторим: когда два события E и F независимы, то по определению вероятность их совместного наступления равна P(E,F) = P(E)P(F)\n",
    "\n",
    "Если же они являются зависимыми( и при этом вероятность F не равна 0) , то условная вероятность события Е при условии события F определяется так:\n",
    "\n",
    "> P(E|F) = P(E,F) / P(F)\n",
    "\n",
    "Под этим понимается вероятность наступления события Е при условии, что известно о наступлении события F\n",
    "\n",
    "Для демонстрации условной вероятности обычно приводят следующий замысловатый пример с семьей, где есть двое детей, ей пол нам не известен. При этом предполагаем, что:\n",
    "\n",
    "* каждый ребенок равновероятно является либо мальчиком, либо девочкой\n",
    "\n",
    "* пол второго ребенка не зависит от пола первого\n",
    "\n",
    "Тогда вероятность, что оба ребенка не девочки, равна 1/4, вероятность того, что ода девочка и один мальчик, равна 1/2 , а вероятность что обе девочки, равна 1/4.\n",
    "\n",
    "Для начала узнаем вероятность наступления события, когда оба ребенка - девочки (В), при условии, что старший ребенок - девочка (G). Используя определение условной вероятности, получим: \n",
    "\n",
    "> P(B|G) = P(B,G) / P(G) = P(B) / P(G) = 1/2\n",
    "\n",
    "Поскольку событие B и G (оба ребенка - девочкки и старший ребенок - девочка) представлено одним событием B. (Если известно, что оба ребенка - девочки, то верно, что старший ребенок - девочка).\n",
    "\n",
    "И, скорее всего, такой результат будет в согласии с нашей интуицией.\n",
    "\n",
    "А теперь узнаем, какова вероятность события, когда оба ребенка - девочки при условии, что как минимум один ребенок - девочка(L). И удивительная вещь - ответ будет отличаться от ранее полученного. \n",
    "Как и раньше, событие B и L (оба ребенка - девочки и не менее одного ребенка - девочка) представлено одним событием B. Однако получим:\n",
    "\n",
    "> P(B|L) = P(B,L) / P(L) = P(B) / P(L) = 1/3\n",
    "\n",
    "Все дело в том, что если известно, что как минимум один ребенок - девочка, то вероятность , что в семье имеется один мальчик и одна девочка, в два раза выше, чем вероятность, что имеются две девочки.\n",
    "\n",
    "Можно убедиться в правильности рассужений, \"сгенерировав\" большое количество семей:"
   ]
  },
  {
   "cell_type": "code",
   "execution_count": 58,
   "metadata": {},
   "outputs": [
    {
     "name": "stdout",
     "output_type": "stream",
     "text": [
      "P(обе|старшая):  0.49821423931791337\n",
      "P(обе|любая):  0.3324149960128336\n"
     ]
    }
   ],
   "source": [
    "#Произвольно выбрать мальчика или девочку\n",
    "def random_kid():\n",
    "    return rnd.choice(['boy','girl'])\n",
    "\n",
    "#проверка парадокса мальчика и девочки\n",
    "both_girls = 0\n",
    "older_girl = 0\n",
    "either_girl = 0\n",
    "\n",
    "rnd.seed(0)\n",
    "for _ in range (1000000): #проводим эксперимент на совокупности из 100000 семей\n",
    "    younger = random_kid()\n",
    "    older = random_kid()\n",
    "    if older == 'girl':\n",
    "        older_girl += 1\n",
    "    if older == 'girl' and younger == 'girl':\n",
    "        both_girls += 1\n",
    "    if older == 'girl' or younger == 'girl':\n",
    "        either_girl +=1\n",
    "print('P(обе|старшая): ', both_girls / older_girl)\n",
    "print('P(обе|любая): ', both_girls / either_girl)"
   ]
  },
  {
   "cell_type": "markdown",
   "metadata": {},
   "source": [
    "## Теорема Байеса\n",
    "\n",
    "Теорема Байеса позволяет \"переставить\" условные вероятности местами. Пусть нужно узнать вероятность некоего события Е, зависящего от наступления некоего другого события F, причем в наличии имеется лишь информация о вероятности события F, зависящего от наступление события Е. Двукратное применение (в силу симметрии) определения условной вероятности даст формулу Байеса:\n",
    "\n",
    "> P(E|F) = P(E,F) / P(E) = P(F|E)P(E) / P(F)\n",
    "\n",
    "Если событие F разложить на два взаимоисключающих события - событие \"F и E\" и событие \"F и не Е\" - и обозначить \"Не E\" (т.е. Е не наступает, как -Е, тогда:\n",
    "\n",
    "> P(F) = P(F,E) + P(F, -E)\n",
    "\n",
    "благодаря чему формула приводится к следующиму виду:\n",
    "\n",
    "> P(E|F) = P(F|E)P(E) / P(F|E)P(E)+P(F|-E)PP(-E)\n",
    "\n",
    "Именно так формулируется теорема Байеса.\n",
    "\n",
    "Данную теорему часто используют, чтобы продемонстрировать, почему аналитики данных умнее врачей. Представим, что есть некая болзень, которая поражает 1 из каждый 10 000 человек, и можно пройти обследование, выявляющее эту болзень, которое в 99% даст правильный результат (\"Болен\", если заболевание имеется и \"не болен\" - в противном случае).\n",
    "\n",
    "Что означает положительный результат обследования? Пусть Т - событие, что \"результат Вашего обследования положительный\" , а D - событие, что \"У вас имеется заболевание\". Тогда согласно теореме Байеса, вероятность наличия заболевания при положительном результате обследования равна:\n",
    "\n",
    "> P(D|T) = P(T|D)P(D) / P(T|D)P(D) + P(T|-D)P(-D)\n",
    "\n",
    "По условию задачи известно, что P(T|D) = 0.99 (вероятность, что заболевший получит положительный результат обследования), P(D) = 1/10000 = 0.0001 (вероятность, что любой человек имеет заболевание), P(T|-D) = 0.01 (вероятность , что здоровый человек получит положительный результат обследования) и P(-D) = 0.9999 (вероятность, что любое данное лицо не имеет заболевания). Если подставить эти числа в теорему Байеса, то: \n",
    "\n",
    "> P(D|T) = 0.98%\n",
    "\n",
    "т.е менее 1% людей, которые получат положительный результат обследования, имеют это заболевание на самом деле.\n",
    "В то время как для аналитика данных задача решается простым подсчетом, большинство врачей определяют навскиду , что приблизительно P(D|T) = 2 \n",
    "\n",
    "Интуитивно более понятный способ - представить популяцию численностью 1 млн. человек. 100 из них ожидаемо имеют заболевание, из которых 99 получиили положительный результат обследования. С другой стороны, 999 900 из них ожидаемо не имеют заболевания, из которых 9999 получили положительный результат обследования, вследствие чего можно ожидать, что только 99 из (99 + 9999) получивших положительный результат обследования имеют это заболевание на самом деле. "
   ]
  },
  {
   "cell_type": "markdown",
   "metadata": {},
   "source": [
    "## Случайные величины \n",
    "\n",
    "Случайная величина - это переменная, чьим возможным значениям поставлено в соответсвие распределение вероятностей. Простая случайная величина рана 1, если подброшенная монета повернется орлом, и 0 , если повернется решкой. Более сложная величина может измерять число орлов, наблюдаемых при 10 бросках, или значение, выбираемое из диапазона range(10) , где каждое число равновозможное. \n",
    "\n",
    "Связанное со случайной величиной распределения вероятностей предоставляет ей вероятности, ск оторыми она реализует каждое из своих возможных значений. Случайная величина броска монеты равна 0, с вероятностью 0.5 и 1 с той же вероятностью. Случайная величина диапазона range(10) имеет распределение, где каждому числу от 0 до 9 поставлена в соответсвие вероятность 0.1\n",
    "\n",
    "Мы иногда будем говорить о (среднем) ожидаемом значении или математическом ожидании случайной величины, которое представляет собой взвешенную сумму произведений каждого её значения на его вероятность. Среднее ожидаемое значение броска монеты равно 1/2 (=0 * 1/2 + 1 * 1/2) среднее ожидаемое значение диапазона range(10) равно 4.5\n",
    "Случайные величины могут обсулавливаться событиями точно так же , как и другие события. \n",
    "Пользуясь примером с двумя детьми выше , если Х - это случайная величина , представляющая число девочек, то Х равно 0 с вероятностью 1/4, 1 с вероятностью 1/2 и 2 с вероятностью 1/4. \n",
    "\n",
    "Можно определеить новую случайную величину Y , которая дает число девочек при условии, что как минимум один ребенок - девочка. Тогда Y равно 1 с вероятностью 2/3 и 2 с вероятностью 1/3. А также определеить случайную величину Z , как число девочек при условии, что старший ребенок - девочка, равную 1 с вероятностью 1/2 и 2 с вероятностью 1/2\n",
    "В рассматриваемых задачах случайные величины будут использовать по большей части неявным образом, без привлечения к ним особого внимания. Онако если копнуть глубже, то их можно обязательно обнаружить."
   ]
  },
  {
   "cell_type": "markdown",
   "metadata": {},
   "source": [
    "## Непрерывные распределения\n",
    "\n",
    "Бросание монеты соотвествует дискретному распределению, которое ставит в соответсвии положительную вероятность пронумерованным исходам дискретного вероятностного пространства. Однако нередко требуется моделировать распределения на непрерывном пространстве исходов. (для целей изложения в книге эти исходы всегда будут вещетсвенными числами, хотя в реальной жизни это не всегда так).\n",
    "Например, равномерное распределение назначает одинаковый вес всем числам между 0 и 1.\n",
    "Поскольку между 0 и 1 находится бесконечное количество чисел, то, значит, вес, который оно назначет индивидуальным точкам, должен с неизбежностью быть равен нулю. По этой причине непрерывное распределение расстояние вероятностей представляют плонстью распределения вероятностей(probability density function, pdf) , также именуемое дифференциальной функцией распределения (ДФР), такой, что вероятность наблюдать значение в определенном интервале равна интегралу от дифференциальной функции, взятому в этих пределеах.\n",
    "\n",
    "Функция плотности(или ДФР) равномерного распределения - это всего лишь:"
   ]
  },
  {
   "cell_type": "code",
   "execution_count": 59,
   "metadata": {},
   "outputs": [],
   "source": [
    "def uniform_pdf(x):\n",
    "    return 1 if x >= 0 and x < 1 else 0"
   ]
  },
  {
   "cell_type": "markdown",
   "metadata": {},
   "source": [
    "Часто нас больше будет интересовать кумулятивная функция распределения (cumulative distribution fundtion, cdf), также именуемая интегральной функцией распределения(ИФР), которая определяет вероятность, что случайная величина меньше или равна некоторому значению. Реализация ИФР равномерного распределения элементарна: "
   ]
  },
  {
   "cell_type": "code",
   "execution_count": 60,
   "metadata": {},
   "outputs": [],
   "source": [
    "def uniform_cdf(x):\n",
    "    '''Возвращает вероятность того, что равномерно распределенная случайная величина <= х'''\n",
    "    if x < 0: return 0\n",
    "    if x < 1: return x\n",
    "    else: return 0 "
   ]
  },
  {
   "cell_type": "markdown",
   "metadata": {},
   "source": [
    "## Нормальное распределение\n",
    "\n",
    "Королем распределений является нормальное распределение. Это классическое распределение в форме колокола польностью определяется двумя параметрами: Мю - математическим оэиданием(средним значением) , и Сигмой - стандартным отклонением. Математическое ожидание указывает на смещение колока, а стандартное отклонение - на его \"ширину\" (или масштаб). Его функция распределения(ДФР) имеет следующий вид:\n",
    "\n",
    "> f(X|m,o)  = 1 / sqrt(2PI* o ) * exp( - (x - m)^2 / 2o^2)\n",
    "\n",
    "Которую можно реализовать таким образом:\n"
   ]
  },
  {
   "cell_type": "code",
   "execution_count": 61,
   "metadata": {},
   "outputs": [],
   "source": [
    "# ДФР нормального распределения\n",
    "\n",
    "def normal_pdf(x , mu=0 , sigma = 1):\n",
    "    sqrt_two_pi = math.sqrt(2 * math.pi)\n",
    "    return (math.exp(-(x-mu)**2 / 2 / sigma**2)/(sqrt_two_pi * sigma))"
   ]
  },
  {
   "cell_type": "markdown",
   "metadata": {},
   "source": [
    "На рисунке для наглядности приведены графики некоторых ДФР:"
   ]
  },
  {
   "cell_type": "code",
   "execution_count": 62,
   "metadata": {},
   "outputs": [
    {
     "data": {
      "image/png": "[encoded data removed]",
      "text/plain": [
       "<Figure size 432x288 with 1 Axes>"
      ]
     },
     "metadata": {
      "needs_background": "light"
     },
     "output_type": "display_data"
    }
   ],
   "source": [
    "xs = [x / 10.0 for x in range(-50,50)]\n",
    "plt.plot(xs,[normal_pdf(x,sigma=1) for x in xs], '-', label = \"мю = 0, сигма = 1\")\n",
    "plt.plot(xs,[normal_pdf(x,sigma=2)for x in xs], '--', label = 'ию = 0, сигма = 2')\n",
    "plt.plot(xs,[normal_pdf(x,sigma=0.5)for x in xs], ':' , label = 'мю = 0, сигма = 0.5')\n",
    "plt.plot(xs,[normal_pdf(x, mu = -1)for x in xs],'-.', label = 'мю = - 1, сигма = 1')\n",
    "plt.legend()\n",
    "plt.title('Несколько ДФР нормального распределения')\n",
    "plt.show()"
   ]
  },
  {
   "cell_type": "markdown",
   "metadata": {},
   "source": [
    "При мю = 0 и сигма = 1 оно называется стандартным нормальным распределением. Если Z - это стандартная нормально распределенная случайная величина, то оказывается, что \n",
    ">X = sigma * Z + mu\n",
    "\n",
    "тоже является нормально распределенной, но с математическим ожиданием мю и стандартным отклонением сигма. И наоборот, если X - нормально распределенная случайная величина с математическим ожиданием мю и стандартным отклонением сигма, то\n",
    "\n",
    ">Z = X - mu / sigma\n",
    "\n",
    "тоже явлеяется нормально распределенной, но с математическим ожиданием мю и стандартным отклонением сигма. И наоборот, если Х - нормально распределенная случайная величина с математическим ожиданием мю и стандартным отклонением сигма, то\n",
    "\n",
    ">Z = X - mu / sigma\n",
    "\n",
    "есть стандартная нормально распределенная случайная величина\n",
    "\n",
    "Интегральную функцию распределения для нормального распределения невозможно написать, пользуясь лишь \"элементарными\" средствами, однако это можно сделать при помощи питоновской функции интеграла вероятности math.erf:"
   ]
  },
  {
   "cell_type": "code",
   "execution_count": 63,
   "metadata": {},
   "outputs": [],
   "source": [
    "#ИФР нормального распределения\n",
    "\n",
    "def normal_cdf(x, mu = 0 , sigma = 1):\n",
    "    return (1 + math.erf((x-mu) / math.sqrt(2) / sigma)) /2"
   ]
  },
  {
   "cell_type": "code",
   "execution_count": 64,
   "metadata": {},
   "outputs": [
    {
     "data": {
      "image/png": "[encoded data removed]",
      "text/plain": [
       "<Figure size 432x288 with 1 Axes>"
      ]
     },
     "metadata": {
      "needs_background": "light"
     },
     "output_type": "display_data"
    }
   ],
   "source": [
    "xs = [x / 10.0 for x in range(-50,50)]\n",
    "plt.plot(xs,[normal_cdf(x,sigma=1) for x in xs], '-', label = \"мю = 0, сигма = 1\")\n",
    "plt.plot(xs,[normal_cdf(x,sigma=2)for x in xs], '--', label = 'ию = 0, сигма = 2')\n",
    "plt.plot(xs,[normal_cdf(x,sigma=0.5)for x in xs], ':' , label = 'мю = 0, сигма = 0.5')\n",
    "plt.plot(xs,[normal_cdf(x, mu = -1)for x in xs],'-.', label = 'мю = - 1, сигма = 1')\n",
    "plt.legend(loc = 4)\n",
    "plt.title('Несколько ДФР нормального распределения')\n",
    "plt.show()"
   ]
  },
  {
   "cell_type": "markdown",
   "metadata": {},
   "source": [
    "Иногда требуется обратить интегральную функцию normal_cdf , чтобы найти значение, соответствующее указанной вероятности. Простой способ вычислить обратную функцию отсутствует , однако если учесть, что normal_cdf - нерперывная и монотонно возрастющая функция, то можно применить двоичный поиск."
   ]
  },
  {
   "cell_type": "code",
   "execution_count": 65,
   "metadata": {},
   "outputs": [],
   "source": [
    "#Обратная ИФР нормального распределения\n",
    "# (tolerance = это константа точности)\n",
    "\n",
    "def inverse_normal_cdf(p, mu=0 , sigma = 1 ,tolerance = 0.00001):\n",
    "    '''Найти приближенную инверсию, используя двоичный поиск'''\n",
    "    # если не стандартизировано, то стандартизировать и прошкалировать\n",
    "    if mu != 0 or sigma != 1:\n",
    "        return mu + sigma * inverse_normal_cdf(p, tolerance = tolerance)\n",
    "    low_z , low_p = -10.0 , 0\n",
    "    hi_z , hi_p = 10.0 , 1\n",
    "    while hi_z - low_z > tolerance:\n",
    "        mid_z = (low_z + hi_z) / 2\n",
    "        mid_p = normal_cdf(mid_z)\n",
    "        if mid_p < p:\n",
    "            low_z, low_p = mid_z , mid_p\n",
    "        elif mid_p > p:\n",
    "            hi_z , hi_p = mid_z , mid_p\n",
    "        else:\n",
    "            break\n",
    "        return mid_z"
   ]
  },
  {
   "cell_type": "markdown",
   "metadata": {},
   "source": [
    "Функция многократно делит интервалы пополам, пока не выйдет на точку Z , которая достаточно близка к требуемой вероятности."
   ]
  },
  {
   "cell_type": "markdown",
   "metadata": {},
   "source": [
    "## Центральная предельная теорема.\n",
    "\n",
    "Одна из пичин распространенности нормального распределения заключается в цетральной предельной теореме(ЦПТ), согласно кторой (по существу) случайная величина, определенная как среднее большого числа независимых и идентично распределенных случайных величин, сама является приближенно нормально распределенной.\n",
    "\n",
    "В частности, если x1,x2,....,xn - случайные величины с математическим ожиданием(средним значением) мю и стандартным отклонением сигма и если n большое, то\n",
    "\n",
    "> 1 / n (x1+x2+...+xn)\n",
    "\n",
    "приближенно нормально распределенная величина с математическим ожиданием мю и стандартным отклонением sigma / sqrt(n) . Эквивалентным образом ( и чаще с большей практической пользой), \n",
    "\n",
    "> (x1 + x 2 + ... xn ) - mu * n / sigma * sqrt(n)\n",
    "\n",
    "есть приближенно нормально распределенная величина с нулевым математическим ожиданием и стандартным отклонением, равным 1.\n",
    "\n",
    "Это можно лекго проиллюстрировать, обратившись к биномиально распределенным случайным величинам, имеющим два параметра - n и p. \n",
    "Биномиальная случайная величина binomial(n , p) - это просто сумма n независимых случайных величин с распределением Бернулли bernoulli(p) , таких, что значение каждой из них равно 1 с вероятностью p и 0 c вероятностью 1 - p\n"
   ]
  },
  {
   "cell_type": "code",
   "execution_count": 66,
   "metadata": {},
   "outputs": [],
   "source": [
    "#независимое испытание Бернулли, в котором имеется всего\n",
    "#два случайных исхода ( 1 и 0 ) с постоянной вероятностью\n",
    "def bernoulli_trial(p):\n",
    "    return 1 if rnd.random() < p else 0\n",
    "\n",
    "#биномиальное распределение\n",
    "def binominal( n, p):\n",
    "    return m.sum(bernoullii_trial(p) for _ in range(n))\n"
   ]
  },
  {
   "cell_type": "markdown",
   "metadata": {},
   "source": [
    "Математическое ожидание случайной величины с распределением Бернулли bernoulli(p) равно p , её стандартное отклонение равно sqrt(p*(1-p)). \n",
    "Согласно центральной предельной теореме, при больших n биномиальныя случайная еличина binomial(n,p) приближенно нормально распределена с математическим ожиданием mu = n * p и стандартным отклонением sigma = sqrt(n * p * ( 1 - p))\n",
    "\n"
   ]
  },
  {
   "cell_type": "markdown",
   "metadata": {},
   "source": [
    "#Гипотеза и вывод\n",
    "\n",
    "> По-настоящему умного человека характеризует то, что им движет статистика. \n",
    "(с)Джордж Бернанрд Шоу\n",
    "\n",
    "Научная сторона науки о данных часто подразумевает формулировку и проверку статистических гипотез о данных и процессах, которые их порождают.\n",
    "\n",
    "## Проверка статистических гипотез.\n",
    "\n",
    "Зачастую требуется выполнить проверку вероястноти, что определенная статистическая гипотеза является правильной. \n",
    "Статистическая гипотеза - утверждение типа \"эта монета уравновешена\" , или \"аналитики данных больше предпочитают Пайтон, чер R\", или \"Скорее человечество переборить коронавирус, не понимая как, но будут придерживаться карантина.\"\n",
    " Все эти утверждения могут быть транслированы в статистики о данных. В условиях нескольких исходных предположений эти статистики можно рассматривать в качестве наблюдений за случайными величинами с известными распределениями, которые позволяют делать утверждения о возможности, что эти исходные предположения верны.\n",
    " Классическая трактовка подразуменвает наличие главной или нулевой гипотезы H0 , которая представляет некую позицию по умолчанию, и конкурирующей или альтернативной гипотезы H1 , относительно которой мы хотим её сопоставить. Чтобы принять решение, можно или отклонить H0 как ошибочную, или принять её как верную, используя статистики. По-видимому, будет разумнее показать это на примере. \n",
    " \n",
    " ## Пример : бросание монеты\n",
    " \n",
    "Пусть имеется монета, которую требуется проверить, уравновешена ли она. Для этого елается исходное предположение, что монета имеет некую вероятность p выпадения орла, и выдвигается нулевая гипотеза о том, что монета уравновешена, т.е p = 0.5 . Проверим ее, сопоставив с альтернативной гипотезой p != 0.5\n",
    "\n",
    "В частности, првоерка нулевой гипотезы будет состоять в бросании монеты n раз и подсчет количества орлов X. Каждый бросок монеты - это испытание Бернулли, где Х - это биномиальная случайная величина, которую как мы уже убедились можно приближенно выразить при помощи нормального распределения."
   ]
  },
  {
   "cell_type": "code",
   "execution_count": 1,
   "metadata": {},
   "outputs": [],
   "source": [
    "#аппроксимация биномиальной случайной величины нормальным распределением. \n",
    "def normal_approximation_to_binomial(n,p):\n",
    "    '''находит mu и sigma, которые соответствуют binomial(n,p)'''\n",
    "    mu = p * n \n",
    "    sigma = math.sqrt(p*(1-p)*n)\n",
    "    return mu, sigma"
   ]
  },
  {
   "cell_type": "markdown",
   "metadata": {},
   "source": [
    "# to be continued later..."
   ]
  },
  {
   "cell_type": "markdown",
   "metadata": {},
   "source": [
    "# Градиентный спуск\n",
    "\n"
   ]
  },
  {
   "cell_type": "code",
   "execution_count": null,
   "metadata": {},
   "outputs": [],
   "source": []
  }
 ],
 "metadata": {
  "kernelspec": {
   "display_name": "Python 3",
   "language": "python",
   "name": "python3"
  },
  "language_info": {
   "codemirror_mode": {
    "name": "ipython",
    "version": 3
   },
   "file_extension": ".py",
   "mimetype": "text/x-python",
   "name": "python",
   "nbconvert_exporter": "python",
   "pygments_lexer": "ipython3",
   "version": "3.7.4"
  }
 },
 "nbformat": 4,
 "nbformat_minor": 4
}
