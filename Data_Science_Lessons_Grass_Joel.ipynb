{
 "cells": [
  {
   "cell_type": "markdown",
   "metadata": {},
   "source": [
    "# Вектора"
   ]
  },
  {
   "cell_type": "code",
   "execution_count": 37,
   "metadata": {},
   "outputs": [],
   "source": [
    "import functools\n",
    "import math\n",
    "import matplotlib.pyplot as plt\n",
    "import collections as clt\n",
    "import random as rnd"
   ]
  },
  {
   "cell_type": "markdown",
   "metadata": {},
   "source": [
    "Суммирование векторов"
   ]
  },
  {
   "cell_type": "code",
   "execution_count": 19,
   "metadata": {},
   "outputs": [],
   "source": [
    "def vector_add(v,w):\n",
    "    return [v_i + w_i\n",
    "            for v_i, w_i in zip(v,w)]"
   ]
  },
  {
   "cell_type": "code",
   "execution_count": 20,
   "metadata": {},
   "outputs": [
    {
     "data": {
      "text/plain": [
       "[3, 3]"
      ]
     },
     "execution_count": 20,
     "metadata": {},
     "output_type": "execute_result"
    }
   ],
   "source": [
    "vector_add([1,2],[2,1])"
   ]
  },
  {
   "cell_type": "markdown",
   "metadata": {},
   "source": [
    "Разница векторов"
   ]
  },
  {
   "cell_type": "code",
   "execution_count": 7,
   "metadata": {},
   "outputs": [],
   "source": [
    "def vector_subtract(v,w):\n",
    "    return [v_i - w_i\n",
    "           for v_i, w_i in zip(v,w)]"
   ]
  },
  {
   "cell_type": "code",
   "execution_count": 8,
   "metadata": {},
   "outputs": [
    {
     "data": {
      "text/plain": [
       "[-2, 10, 4, -2]"
      ]
     },
     "execution_count": 8,
     "metadata": {},
     "output_type": "execute_result"
    }
   ],
   "source": [
    "vector_subtract([0,15,10,-1],[2,5,6,1])"
   ]
  },
  {
   "cell_type": "markdown",
   "metadata": {},
   "source": [
    "Покомпонентная сумма списка векторов"
   ]
  },
  {
   "cell_type": "code",
   "execution_count": 17,
   "metadata": {},
   "outputs": [],
   "source": [
    "def vector_sum(vectors):\n",
    "    return functools.reduce(vector_add,vectors)"
   ]
  },
  {
   "cell_type": "code",
   "execution_count": 23,
   "metadata": {},
   "outputs": [
    {
     "data": {
      "text/plain": [
       "[12, 14]"
      ]
     },
     "execution_count": 23,
     "metadata": {},
     "output_type": "execute_result"
    }
   ],
   "source": [
    "vector_sum([[1,2],[1,2],[10,10]])"
   ]
  },
  {
   "cell_type": "markdown",
   "metadata": {},
   "source": [
    "Умножение вектора на скаляр"
   ]
  },
  {
   "cell_type": "code",
   "execution_count": 24,
   "metadata": {},
   "outputs": [],
   "source": [
    "def scalar_multiply(scalar,vector):\n",
    "    return [scalar * v_i for v_i in vector]"
   ]
  },
  {
   "cell_type": "code",
   "execution_count": 25,
   "metadata": {},
   "outputs": [
    {
     "data": {
      "text/plain": [
       "[5, 5]"
      ]
     },
     "execution_count": 25,
     "metadata": {},
     "output_type": "execute_result"
    }
   ],
   "source": [
    "scalar_multiply(5,[1,1])"
   ]
  },
  {
   "cell_type": "markdown",
   "metadata": {},
   "source": [
    "Вычисление покомпонентного среднего значения списка векторов(одинакового размера)"
   ]
  },
  {
   "cell_type": "code",
   "execution_count": 26,
   "metadata": {},
   "outputs": [],
   "source": [
    "def vector_mean(vectors):\n",
    "    n = len(vectors)\n",
    "    return scalar_multiply(1/n, vector_sum(vectors))"
   ]
  },
  {
   "cell_type": "code",
   "execution_count": 27,
   "metadata": {},
   "outputs": [
    {
     "data": {
      "text/plain": [
       "[4.0, 4.666666666666666]"
      ]
     },
     "execution_count": 27,
     "metadata": {},
     "output_type": "execute_result"
    }
   ],
   "source": [
    "vector_mean([[1,2],[1,2],[10,10]])"
   ]
  },
  {
   "cell_type": "markdown",
   "metadata": {},
   "source": [
    "Вычисление скалярного произведения. \n",
    "Скалярное произведение - сумма двух векторов их покомпонентных произведений"
   ]
  },
  {
   "cell_type": "code",
   "execution_count": 28,
   "metadata": {},
   "outputs": [],
   "source": [
    "def dot(v,w):\n",
    "    return sum(v_i * w_i\n",
    "              for v_i , w_i in zip(v,w))"
   ]
  },
  {
   "cell_type": "code",
   "execution_count": 29,
   "metadata": {},
   "outputs": [
    {
     "data": {
      "text/plain": [
       "2"
      ]
     },
     "execution_count": 29,
     "metadata": {},
     "output_type": "execute_result"
    }
   ],
   "source": [
    "dot([1,1],[1,1])"
   ]
  },
  {
   "cell_type": "markdown",
   "metadata": {},
   "source": [
    "Вычисление суммы квадратов вектора"
   ]
  },
  {
   "cell_type": "code",
   "execution_count": 30,
   "metadata": {},
   "outputs": [],
   "source": [
    "def sum_of_squares(v):\n",
    "    return dot(v,v)"
   ]
  },
  {
   "cell_type": "code",
   "execution_count": 31,
   "metadata": {},
   "outputs": [
    {
     "data": {
      "text/plain": [
       "8"
      ]
     },
     "execution_count": 31,
     "metadata": {},
     "output_type": "execute_result"
    }
   ],
   "source": [
    "sum_of_squares([2,2])"
   ]
  },
  {
   "cell_type": "markdown",
   "metadata": {},
   "source": [
    "Вычисление величины(длинны) вектора"
   ]
  },
  {
   "cell_type": "code",
   "execution_count": 33,
   "metadata": {},
   "outputs": [],
   "source": [
    "def magnitude(v):\n",
    "    return math.sqrt(sum_of_squares(v))"
   ]
  },
  {
   "cell_type": "code",
   "execution_count": 34,
   "metadata": {},
   "outputs": [
    {
     "data": {
      "text/plain": [
       "2.8284271247461903"
      ]
     },
     "execution_count": 34,
     "metadata": {},
     "output_type": "execute_result"
    }
   ],
   "source": [
    "magnitude([2,2])"
   ]
  },
  {
   "attachments": {
    "_auto_0": {
     "image/png": "[encoded data removed]"
    }
   },
   "cell_type": "markdown",
   "metadata": {},
   "source": [
    "#### Растстояние между двумя векторами по формуле\n",
    "> ![_auto_0](attachment:_auto_0)"
   ]
  },
  {
   "cell_type": "markdown",
   "metadata": {},
   "source": [
    "Квадрат расстояние между двумя векторами"
   ]
  },
  {
   "cell_type": "code",
   "execution_count": 35,
   "metadata": {},
   "outputs": [],
   "source": [
    "def squared_distance(v,w):\n",
    "    return sum_of_squares(vector_subtract(v,w))"
   ]
  },
  {
   "cell_type": "code",
   "execution_count": 37,
   "metadata": {},
   "outputs": [
    {
     "data": {
      "text/plain": [
       "0"
      ]
     },
     "execution_count": 37,
     "metadata": {},
     "output_type": "execute_result"
    }
   ],
   "source": [
    "squared_distance([2,2],[2,2])"
   ]
  },
  {
   "cell_type": "markdown",
   "metadata": {},
   "source": [
    "расстояние между двумя векторами"
   ]
  },
  {
   "cell_type": "code",
   "execution_count": 38,
   "metadata": {},
   "outputs": [],
   "source": [
    "def distance(v,w):\n",
    "    return math.sqrt(squared_distance(v,w))"
   ]
  },
  {
   "cell_type": "code",
   "execution_count": 40,
   "metadata": {},
   "outputs": [
    {
     "data": {
      "text/plain": [
       "19.79898987322333"
      ]
     },
     "execution_count": 40,
     "metadata": {},
     "output_type": "execute_result"
    }
   ],
   "source": [
    "distance([15,1],[1,15])"
   ]
  },
  {
   "cell_type": "markdown",
   "metadata": {},
   "source": [
    "# Матрицы"
   ]
  },
  {
   "cell_type": "markdown",
   "metadata": {},
   "source": [
    "Образование формы матрицы:\n"
   ]
  },
  {
   "cell_type": "code",
   "execution_count": 1,
   "metadata": {},
   "outputs": [],
   "source": [
    "def shape(A):\n",
    "    num_rows = len(A)\n",
    "    num_cols = len(A[0]) if A else 0\n",
    "    return num_rows , num_cols"
   ]
  },
  {
   "cell_type": "code",
   "execution_count": 2,
   "metadata": {},
   "outputs": [
    {
     "data": {
      "text/plain": [
       "(3, 3)"
      ]
     },
     "execution_count": 2,
     "metadata": {},
     "output_type": "execute_result"
    }
   ],
   "source": [
    "Matrix = [[1,1,1],\n",
    "          [0,1,0],\n",
    "          [1,0,1]]\n",
    "shape(Matrix)"
   ]
  },
  {
   "cell_type": "markdown",
   "metadata": {},
   "source": [
    "Получение строк и столбцов матрицы"
   ]
  },
  {
   "cell_type": "code",
   "execution_count": 4,
   "metadata": {},
   "outputs": [],
   "source": [
    "def get_row(A,i):\n",
    "    '''Get i matrix row'''\n",
    "    return A[i]\n",
    "def get_column(A,j):\n",
    "    '''Get j matrix column'''\n",
    "    return [A_i[j]\n",
    "           for A_i in A]"
   ]
  },
  {
   "cell_type": "code",
   "execution_count": 5,
   "metadata": {},
   "outputs": [],
   "source": [
    "A = [[1,0,1],\n",
    "    [0,1,0],\n",
    "    [1,0,1]]"
   ]
  },
  {
   "cell_type": "code",
   "execution_count": 7,
   "metadata": {},
   "outputs": [
    {
     "data": {
      "text/plain": [
       "[0, 1, 0]"
      ]
     },
     "execution_count": 7,
     "metadata": {},
     "output_type": "execute_result"
    }
   ],
   "source": [
    "get_row(A,1)"
   ]
  },
  {
   "cell_type": "code",
   "execution_count": 8,
   "metadata": {},
   "outputs": [
    {
     "data": {
      "text/plain": [
       "[1, 0, 1]"
      ]
     },
     "execution_count": 8,
     "metadata": {},
     "output_type": "execute_result"
    }
   ],
   "source": [
    "get_column(A,0)"
   ]
  },
  {
   "cell_type": "markdown",
   "metadata": {},
   "source": [
    "Генерация Матрицы по размеру"
   ]
  },
  {
   "cell_type": "code",
   "execution_count": 17,
   "metadata": {},
   "outputs": [],
   "source": [
    "def make_matrix(num_rows,num_cols,entry_fn):\n",
    "    '''Matrix generation by num_rows, num_cols and entry function'''\n",
    "    return [[entry_fn(i,j)\n",
    "           for j in range(num_cols)]\n",
    "           for i in range(num_rows)]"
   ]
  },
  {
   "cell_type": "markdown",
   "metadata": {},
   "source": [
    "Входная функция для функции генерации представленной выше, которая\n",
    "позволяет генерировать единичную матрицу(единицы по диагонали)"
   ]
  },
  {
   "cell_type": "code",
   "execution_count": 18,
   "metadata": {},
   "outputs": [],
   "source": [
    "def is_diagonal(i,j):\n",
    "    return 1 if i == j else 0"
   ]
  },
  {
   "cell_type": "code",
   "execution_count": 19,
   "metadata": {},
   "outputs": [],
   "source": [
    "identity_matrix = make_matrix(3,3, is_diagonal)"
   ]
  },
  {
   "cell_type": "code",
   "execution_count": 20,
   "metadata": {},
   "outputs": [
    {
     "data": {
      "text/plain": [
       "[[1, 0, 0], [0, 1, 0], [0, 0, 1]]"
      ]
     },
     "execution_count": 20,
     "metadata": {},
     "output_type": "execute_result"
    }
   ],
   "source": [
    "identity_matrix"
   ]
  },
  {
   "cell_type": "markdown",
   "metadata": {},
   "source": [
    "Матрицы мы можем использовать для представления набора данных, состоящего из нескольких векторов, рассматривая каждую строку матрицы в качестве вектора. Например, если имеются данные о росте, весе и возрасте n количества человек, то их можно представить в виде матрицы n x 3. "
   ]
  },
  {
   "cell_type": "code",
   "execution_count": 21,
   "metadata": {},
   "outputs": [],
   "source": [
    "#Пример для примечание выше в случае с данными о трёх особях\n",
    "data = [[175,68,40],\n",
    "        [163,64,26],\n",
    "        [193,78,19]]"
   ]
  },
  {
   "cell_type": "markdown",
   "metadata": {},
   "source": [
    "Матрицу размера n x k можно использовать в качестве линейной функции, которая отображает k-мерные векторы в n-мерные. Некоторые методы и концепции при анализе данных будут использовать подобные функции."
   ]
  },
  {
   "cell_type": "markdown",
   "metadata": {},
   "source": [
    "### Матрицу \n",
    "также можно использовать для двоичного представления дружеских связей. Например в социальной сети друзей можно представить в виде множества пар\n",
    "(i,j). Альтернативная реализация подразумевает создание матрицы смежности, т.е такой матрицы А, что элемент А[i][j] равен 1, если узлы i и j связаны между собой и следовательно 0 в противных случаях."
   ]
  },
  {
   "cell_type": "code",
   "execution_count": 23,
   "metadata": {},
   "outputs": [],
   "source": [
    "#Вид взаимосвязей между аккаунтами приведённом в начале примечания выше\n",
    "friendships = [(0,1),(0,2),(1,2),(1,3),(2,3),(3,4),\n",
    "              (4,5),(5,6),(5,7),(6,8),(7,8),(8,9)]"
   ]
  },
  {
   "cell_type": "code",
   "execution_count": 26,
   "metadata": {},
   "outputs": [],
   "source": [
    "#Вид взаимосвязей между аккаунтами приведнном\n",
    "#с помощью матрицы из примечания выше\n",
    "\n",
    "# пользователь: 1 2 3 4 5\n",
    "friendships = [[0,1,1,1,0],\n",
    "               [1,0,1,0,1],\n",
    "               [1,0,1,1,1],\n",
    "               [0,1,1,1,0],\n",
    "               [0,1,1,0,0],]\n",
    "\n",
    "#При отсутсвии каких либо взаимосвязей:\n",
    "\n",
    "friendships = [[0,0,0,0,0],\n",
    "               [0,0,0,0,0],\n",
    "               [0,0,0,0,0],\n",
    "               [0,0,0,0,0],\n",
    "               [0,0,0,0,0],]\n",
    "\n",
    "#Все друг с другом дружат:\n",
    "\n",
    "friendships = [[1,1,1,1,1],\n",
    "               [1,1,1,1,1],\n",
    "               [1,1,1,1,1],\n",
    "               [1,1,1,1,1],\n",
    "               [1,1,1,1,1],]"
   ]
  },
  {
   "cell_type": "markdown",
   "metadata": {},
   "source": [
    "# СТАТИСТИКА"
   ]
  },
  {
   "cell_type": "markdown",
   "metadata": {},
   "source": [
    "## Описание одиночного набора данных\n",
    "\n",
    "Любой набор данных очевидным образом характеризует сам себя"
   ]
  },
  {
   "cell_type": "code",
   "execution_count": 100,
   "metadata": {},
   "outputs": [
    {
     "name": "stdout",
     "output_type": "stream",
     "text": [
      "[67, 18, 38, 63, 56, 4, 74, 14, 37, 2, 88, 37, 16, 44, 29, 96, 81, 95, 8, 15, 6, 40, 55, 40, 41, 75, 57, 95, 66, 18, 99, 12, 13, 100, 43, 82, 93, 36, 67, 99, 20, 92, 35, 5, 63, 26, 8, 41, 73, 63, 34, 49, 28, 95, 13, 97, 4, 52, 17, 96, 66, 98, 83, 3, 17, 91, 53, 61, 34, 77, 80, 3, 100, 71, 45, 13, 95, 84, 1, 52, 32, 18, 17, 77, 9, 30, 66, 17, 52, 92, 86, 54, 41, 41, 75, 11, 59, 15, 88, 42, 20, 28, 72, 83, 41, 93, 22, 66, 16, 40, 75, 7, 17, 86, 31, 49, 29, 50, 74, 44, 6, 82, 96, 34, 15, 42, 56, 47, 63, 3, 75, 67, 51, 12, 25, 22, 87, 28, 95, 7, 42, 0, 0, 56, 78, 79, 56, 77, 18, 85, 82, 16, 15, 74, 78, 76, 23, 31, 49, 9, 17, 93, 100, 96, 33, 32, 12, 32, 92, 62, 68, 47, 91, 84, 28, 59, 65, 90, 42, 10, 13, 14, 58, 82, 38, 57, 32, 100, 58, 7, 83, 55, 34, 93, 26, 65, 12, 48, 59, 79, 67, 77, 92, 73, 42, 92, 24, 6, 76, 31, 25, 68, 64, 70, 96, 92, 62, 24, 4, 64, 61, 19, 83, 66, 80, 71, 44, 6, 70, 72, 25, 65, 45, 81, 42, 13, 6, 67, 52, 34, 94, 43, 98, 68, 98, 91, 27, 81, 58, 44]\n"
     ]
    }
   ],
   "source": [
    "# Число друзей\n",
    "num_friends = [100,49,41,40,25]\n",
    "\n",
    "#будем использовать далее случайным образом сгенерированную выборку \n",
    "#данных для наглядности\n",
    "\n",
    "#примечание: в данном примере не будет использоваться библиотека numpy\n",
    "#которую зачастую для подобных задач и используют\n",
    "\n",
    "num_friends = []\n",
    "for i in range(0,250):\n",
    "    n = rnd.randint(0,100)\n",
    "    num_friends.append(n)\n",
    "print(num_friends)"
   ]
  },
  {
   "cell_type": "markdown",
   "metadata": {},
   "source": [
    "Такое описание может оказаться наилучшим для сравнительного небольшого набора данных. Но для более объемного набора данных это будет выглядеть очень громоздко и, скорее всего, непрозрачно.\n",
    "\n",
    "Просто представьте , что у вас перед глазами список и 1 млн чисел.\n",
    "По этой причине пользуются статистиками(стат.показателями), при помощи которых обобщают и передают информацию о существенных признаках, присутствующих в данных."
   ]
  },
  {
   "cell_type": "markdown",
   "metadata": {},
   "source": [
    "Вначале вы помещаете количество друзей на гистограмму, испольуя словарь Counter и метод plt.bar"
   ]
  },
  {
   "cell_type": "code",
   "execution_count": 101,
   "metadata": {},
   "outputs": [
    {
     "name": "stdout",
     "output_type": "stream",
     "text": [
      "Counter({92: 6, 17: 6, 42: 6, 67: 5, 96: 5, 95: 5, 6: 5, 41: 5, 66: 5, 13: 5, 34: 5, 18: 4, 63: 4, 56: 4, 44: 4, 15: 4, 75: 4, 12: 4, 100: 4, 82: 4, 93: 4, 28: 4, 52: 4, 83: 4, 77: 4, 32: 4, 4: 3, 74: 3, 16: 3, 81: 3, 40: 3, 49: 3, 98: 3, 3: 3, 91: 3, 59: 3, 7: 3, 31: 3, 25: 3, 68: 3, 65: 3, 58: 3, 38: 2, 14: 2, 37: 2, 88: 2, 29: 2, 8: 2, 55: 2, 57: 2, 99: 2, 43: 2, 20: 2, 26: 2, 73: 2, 61: 2, 80: 2, 71: 2, 45: 2, 84: 2, 9: 2, 86: 2, 72: 2, 22: 2, 47: 2, 0: 2, 78: 2, 79: 2, 76: 2, 62: 2, 24: 2, 64: 2, 70: 2, 2: 1, 36: 1, 35: 1, 5: 1, 97: 1, 53: 1, 1: 1, 30: 1, 54: 1, 11: 1, 50: 1, 51: 1, 87: 1, 85: 1, 23: 1, 33: 1, 90: 1, 10: 1, 48: 1, 19: 1, 94: 1, 27: 1})\n"
     ]
    },
    {
     "data": {
      "image/png": "[encoded data removed]",
      "text/plain": [
       "<Figure size 432x288 with 1 Axes>"
      ]
     },
     "metadata": {
      "needs_background": "light"
     },
     "output_type": "display_data"
    }
   ],
   "source": [
    "friend_counts = clt.Counter(num_friends)\n",
    "print(friend_counts)\n",
    "xs = range(101)                     # максимальное значение 100\n",
    "ys = [friend_counts[x] for x in xs] # высота - количество друзей\n",
    "plt.bar(xs,ys)\n",
    "plt.axis([0,101,0,25])\n",
    "plt.title('Гистограмма количества друзей')\n",
    "plt.xlabel('Количество друзей')\n",
    "plt.ylabel('Количество людей')\n",
    "plt.show()"
   ]
  },
  {
   "attachments": {
    "image.png": {
     "image/png": "[encoded data removed]"
    }
   },
   "cell_type": "markdown",
   "metadata": {},
   "source": [
    "\n",
    "\n",
    "![image.png](attachment:image.png)\n",
    "\n",
    "На диаграмме выше красным выделены самые \"дружелюбные\", однако в некоторых случаях подобные данные можно считать за аномальные, в сравнении с общей тенденцией.\n",
    "\n",
    "К сожалению, эта диаграмма мало информативна, поэтмоу мы приступим к форматированию некоторых статистик.\n",
    "\n",
    "самый простой статистикой является число точек данных:"
   ]
  },
  {
   "cell_type": "code",
   "execution_count": 72,
   "metadata": {},
   "outputs": [],
   "source": [
    "num_points = len(num_friends) # число точек"
   ]
  },
  {
   "cell_type": "code",
   "execution_count": 98,
   "metadata": {},
   "outputs": [
    {
     "data": {
      "text/plain": [
       "250"
      ]
     },
     "execution_count": 98,
     "metadata": {},
     "output_type": "execute_result"
    }
   ],
   "source": [
    "num_points"
   ]
  },
  {
   "cell_type": "markdown",
   "metadata": {},
   "source": [
    "Кроме этого, могут быть интересны наибольшие и наименьшие значения:"
   ]
  },
  {
   "cell_type": "code",
   "execution_count": 97,
   "metadata": {},
   "outputs": [
    {
     "name": "stdout",
     "output_type": "stream",
     "text": [
      "25\n",
      "0\n"
     ]
    }
   ],
   "source": [
    "largest_value = max(num_friends)\n",
    "print(largest_value)\n",
    "smallest_value = min(num_friends)\n",
    "print(smallest_value)"
   ]
  },
  {
   "cell_type": "markdown",
   "metadata": {},
   "source": [
    "А также полезными могут быть:"
   ]
  },
  {
   "cell_type": "code",
   "execution_count": 102,
   "metadata": {},
   "outputs": [],
   "source": [
    "sorted_values = sorted(num_friends) #Отсортированные значение\n",
    "smallest_value = sorted_values[0] #Минимум отсортированного списка\n",
    "second_smallest_value = sorted_values[1] #Следующий минимум\n",
    "second_largest_value = sorted_values[-2] #Второй максимум с конца"
   ]
  },
  {
   "cell_type": "code",
   "execution_count": 107,
   "metadata": {},
   "outputs": [
    {
     "name": "stdout",
     "output_type": "stream",
     "text": [
      "[0, 0, 1, 2, 3, 3, 3, 4, 4, 4, 5, 6, 6, 6, 6, 6, 7, 7, 7, 8, 8, 9, 9, 10, 11, 12, 12, 12, 12, 13, 13, 13, 13, 13, 14, 14, 15, 15, 15, 15, 16, 16, 16, 17, 17, 17, 17, 17, 17, 18, 18, 18, 18, 19, 20, 20, 22, 22, 23, 24, 24, 25, 25, 25, 26, 26, 27, 28, 28, 28, 28, 29, 29, 30, 31, 31, 31, 32, 32, 32, 32, 33, 34, 34, 34, 34, 34, 35, 36, 37, 37, 38, 38, 40, 40, 40, 41, 41, 41, 41, 41, 42, 42, 42, 42, 42, 42, 43, 43, 44, 44, 44, 44, 45, 45, 47, 47, 48, 49, 49, 49, 50, 51, 52, 52, 52, 52, 53, 54, 55, 55, 56, 56, 56, 56, 57, 57, 58, 58, 58, 59, 59, 59, 61, 61, 62, 62, 63, 63, 63, 63, 64, 64, 65, 65, 65, 66, 66, 66, 66, 66, 67, 67, 67, 67, 67, 68, 68, 68, 70, 70, 71, 71, 72, 72, 73, 73, 74, 74, 74, 75, 75, 75, 75, 76, 76, 77, 77, 77, 77, 78, 78, 79, 79, 80, 80, 81, 81, 81, 82, 82, 82, 82, 83, 83, 83, 83, 84, 84, 85, 86, 86, 87, 88, 88, 90, 91, 91, 91, 92, 92, 92, 92, 92, 92, 93, 93, 93, 93, 94, 95, 95, 95, 95, 95, 96, 96, 96, 96, 96, 97, 98, 98, 98, 99, 99, 100, 100, 100, 100] \n",
      " min =  0 \n",
      " second smallest =  0 \n",
      " second largest =  100\n"
     ]
    }
   ],
   "source": [
    "print(sorted_values, '\\n', 'min = ',smallest_value,\n",
    "      '\\n second smallest = ',second_smallest_value,\n",
    "      '\\n second largest = ',second_largest_value,)"
   ]
  },
  {
   "cell_type": "markdown",
   "metadata": {},
   "source": [
    "## Показатели центра распределения "
   ]
  },
  {
   "cell_type": "markdown",
   "metadata": {},
   "source": [
    "Обычно мы хотим иметь некоторое предствавление о том, где находится центр данных. Чаще всего для этих целей используется среднее(или среденее арифметическое) значение, которое берется как сумма данных, деленная на их количество."
   ]
  },
  {
   "cell_type": "code",
   "execution_count": 108,
   "metadata": {},
   "outputs": [],
   "source": [
    "# среднее значение\n",
    "def mean(x):\n",
    "    return sum(x) / len(x)"
   ]
  },
  {
   "cell_type": "code",
   "execution_count": 109,
   "metadata": {},
   "outputs": [
    {
     "data": {
      "text/plain": [
       "51.192"
      ]
     },
     "execution_count": 109,
     "metadata": {},
     "output_type": "execute_result"
    }
   ],
   "source": [
    "mean(num_friends)"
   ]
  },
  {
   "cell_type": "markdown",
   "metadata": {},
   "source": [
    "Для двух точек средней является точка, лежащая посередине между ними. По мере добавление других точек срендеее значение будет смещаться в разные стороны, в зависимости от значения каждого новой точки"
   ]
  },
  {
   "cell_type": "markdown",
   "metadata": {},
   "source": [
    "Кроме среднего значнеие, иногда может понадобиться медиана, которая является ближайщим к центру значением (если число точек данных нечетное) либо средним арифметическим, взятым как полусумма двух ближайщих к центру значнией(если число точек чётное)."
   ]
  },
  {
   "cell_type": "markdown",
   "metadata": {},
   "source": [
    "##### обратите внимание \n",
    "Медиана, в отличии от среднего значего - не зависит от каждого значение в наборе данных. Например, если сделать наибольшую точку еще больше( или найменьшую точку еще меньше), то срединные точки останутся неизменными, следовательно, и медиана не изменится."
   ]
  },
  {
   "cell_type": "markdown",
   "metadata": {},
   "source": [
    "Функция вычисления медианы имеет более сложную реализацию, чем можно было бы ожидать, в основном из-за того, что приходится учитывать случай с четностью:"
   ]
  },
  {
   "cell_type": "code",
   "execution_count": 110,
   "metadata": {},
   "outputs": [],
   "source": [
    "def median(v):\n",
    "    '''Возвращает ближайшее к середине значение для v'''\n",
    "    n = len(v)\n",
    "    sorted_v = sorted(v)\n",
    "    midpoint = n // 2 # Индекс серединного значения\n",
    "    \n",
    "    if n % 2 == 1:\n",
    "        #Если нечетное, вернуть серединное значение\n",
    "        return sorted_v[midpoint]\n",
    "    else:\n",
    "        #Если четное, вернуть среднее 2=х серединных значений\n",
    "        lo = midpoint - 1\n",
    "        hi = midpoint\n",
    "        return(sorted_v[lo] + sorted_v[hi]) / 2\n"
   ]
  },
  {
   "cell_type": "code",
   "execution_count": 111,
   "metadata": {},
   "outputs": [
    {
     "data": {
      "text/plain": [
       "52.0"
      ]
     },
     "execution_count": 111,
     "metadata": {},
     "output_type": "execute_result"
    }
   ],
   "source": [
    "median(num_friends)"
   ]
  },
  {
   "cell_type": "markdown",
   "metadata": {},
   "source": [
    "Среднее значение, конечно, вычисляется проще, и оно несколько варьирует по мере изменения данных. Если у нас есть n точек, и одна из них увелиилась на любое малое число e , то среднее обязательно увеличится на e/n. (Этот факт делает его подверженным разного рода ухищрениям при калькуляции)\n",
    "А для того чтобы найти медиану, данные нужно сперва отсортировать, и изменение одной из точек на любое малое число e может увиличить медиану на величину равную e, меньшую чем е, либо не изменить совсем( в зависимости от набора данных).\n"
   ]
  },
  {
   "cell_type": "code",
   "execution_count": 113,
   "metadata": {},
   "outputs": [
    {
     "name": "stdout",
     "output_type": "stream",
     "text": [
      "12 \n",
      " 25 \n",
      " 77 \n",
      " 93 \n",
      "\n"
     ]
    }
   ],
   "source": [
    "#Квантиль\n",
    "\n",
    "def quantile(x,p):\n",
    "    '''Возвращает значение в х , соответсвующее р-ому проценту данных'''\n",
    "    p_index = int(p*len(x))\n",
    "    return sorted(x)[p_index]\n",
    "\n",
    "print(quantile(num_friends,0.10), '\\n',\n",
    "      quantile(num_friends,0.25), '\\n',\n",
    "      quantile(num_friends,0.75), '\\n',\n",
    "      quantile(num_friends,0.90), '\\n',)"
   ]
  },
  {
   "cell_type": "markdown",
   "metadata": {},
   "source": [
    "Реже испольщуют моду - значение или значения, которые встречаются наиболее часто:"
   ]
  },
  {
   "cell_type": "code",
   "execution_count": 117,
   "metadata": {},
   "outputs": [
    {
     "name": "stdout",
     "output_type": "stream",
     "text": [
      "[92, 17, 42]\n"
     ]
    }
   ],
   "source": [
    "#Мода\n",
    "def mode(x):\n",
    "    counts = clt.Counter(x)\n",
    "    max_count = max(counts.values())\n",
    "    return [x_i for x_i, count in counts.items()\n",
    "           if count == max_count]\n",
    "print(mode(num_friends))"
   ]
  },
  {
   "cell_type": "markdown",
   "metadata": {},
   "source": [
    "## Показатели вариации\n",
    "\n",
    "Показатели вариации отражают меру изменчивости данных. Как правило, это статистические показатели, для которых значения, близкие к нулю, означиют полное отсутсвие изменчиваости, а большие значения(чтобы это ни означало) - очени большую изменчивость. Например, самым простым показателем является размах, который определяется как разница между максимальным и минимальным значениями данных:"
   ]
  },
  {
   "cell_type": "code",
   "execution_count": 118,
   "metadata": {},
   "outputs": [
    {
     "data": {
      "text/plain": [
       "100"
      ]
     },
     "execution_count": 118,
     "metadata": {},
     "output_type": "execute_result"
    }
   ],
   "source": [
    "#рамзах\n",
    "#слово range в Python уже используется, поэтмоу берем другое\n",
    "def data_range(x):\n",
    "    return max(x) - min(x)\n",
    "data_range(num_friends)"
   ]
  },
  {
   "cell_type": "markdown",
   "metadata": {},
   "source": [
    "Размах равен нулю, когда max и min одинаковые, что происходит только  тогда, когда все элементы х равны между собой, и значит, изменчивость в данных отсутствует. И наоборот, когда размах широкий, то максимальное много больше минимального, и изменчивость в данных высокая."
   ]
  },
  {
   "cell_type": "code",
   "execution_count": null,
   "metadata": {},
   "outputs": [],
   "source": []
  }
 ],
 "metadata": {
  "kernelspec": {
   "display_name": "Python 3",
   "language": "python",
   "name": "python3"
  },
  "language_info": {
   "codemirror_mode": {
    "name": "ipython",
    "version": 3
   },
   "file_extension": ".py",
   "mimetype": "text/x-python",
   "name": "python",
   "nbconvert_exporter": "python",
   "pygments_lexer": "ipython3",
   "version": "3.7.4"
  }
 },
 "nbformat": 4,
 "nbformat_minor": 4
}
