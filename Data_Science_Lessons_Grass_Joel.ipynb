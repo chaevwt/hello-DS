{
 "cells": [
  {
   "cell_type": "markdown",
   "metadata": {},
   "source": [
    "# Вектора"
   ]
  },
  {
   "cell_type": "code",
   "execution_count": 1196,
   "metadata": {},
   "outputs": [],
   "source": [
    "import functools\n",
    "import math\n",
    "import matplotlib.pyplot as plt\n",
    "import collections as clt\n",
    "import random as rnd\n",
    "\n",
    "import ipywidgets as widgets\n",
    "from ipywidgets import interact, interact_manual"
   ]
  },
  {
   "cell_type": "markdown",
   "metadata": {},
   "source": [
    "Суммирование векторов"
   ]
  },
  {
   "cell_type": "code",
   "execution_count": 1197,
   "metadata": {},
   "outputs": [],
   "source": [
    "def vector_add(v,w):\n",
    "    return [v_i + w_i\n",
    "            for v_i, w_i in zip(v,w)]"
   ]
  },
  {
   "cell_type": "code",
   "execution_count": 1198,
   "metadata": {},
   "outputs": [
    {
     "data": {
      "text/plain": [
       "[3, 3]"
      ]
     },
     "execution_count": 1198,
     "metadata": {},
     "output_type": "execute_result"
    }
   ],
   "source": [
    "vector_add([1,2],[2,1])"
   ]
  },
  {
   "cell_type": "markdown",
   "metadata": {},
   "source": [
    "Разница векторов"
   ]
  },
  {
   "cell_type": "code",
   "execution_count": 1199,
   "metadata": {},
   "outputs": [],
   "source": [
    "def vector_subtract(v,w):\n",
    "    return [v_i - w_i\n",
    "           for v_i, w_i in zip(v,w)]"
   ]
  },
  {
   "cell_type": "code",
   "execution_count": 1200,
   "metadata": {},
   "outputs": [
    {
     "data": {
      "text/plain": [
       "[-2, 10, 4, -2]"
      ]
     },
     "execution_count": 1200,
     "metadata": {},
     "output_type": "execute_result"
    }
   ],
   "source": [
    "vector_subtract([0,15,10,-1],[2,5,6,1])"
   ]
  },
  {
   "cell_type": "markdown",
   "metadata": {},
   "source": [
    "Покомпонентная сумма списка векторов"
   ]
  },
  {
   "cell_type": "code",
   "execution_count": 1201,
   "metadata": {},
   "outputs": [],
   "source": [
    "def vector_sum(vectors):\n",
    "    return functools.reduce(vector_add,vectors)"
   ]
  },
  {
   "cell_type": "code",
   "execution_count": 1202,
   "metadata": {},
   "outputs": [
    {
     "data": {
      "text/plain": [
       "[12, 14]"
      ]
     },
     "execution_count": 1202,
     "metadata": {},
     "output_type": "execute_result"
    }
   ],
   "source": [
    "vector_sum([[1,2],[1,2],[10,10]])"
   ]
  },
  {
   "cell_type": "markdown",
   "metadata": {},
   "source": [
    "Умножение вектора на скаляр"
   ]
  },
  {
   "cell_type": "code",
   "execution_count": 1203,
   "metadata": {},
   "outputs": [],
   "source": [
    "def scalar_multiply(scalar,vector):\n",
    "    return [scalar * v_i for v_i in vector]"
   ]
  },
  {
   "cell_type": "code",
   "execution_count": 1204,
   "metadata": {},
   "outputs": [
    {
     "data": {
      "text/plain": [
       "[5, 5]"
      ]
     },
     "execution_count": 1204,
     "metadata": {},
     "output_type": "execute_result"
    }
   ],
   "source": [
    "scalar_multiply(5,[1,1])"
   ]
  },
  {
   "cell_type": "markdown",
   "metadata": {},
   "source": [
    "Вычисление покомпонентного среднего значения списка векторов(одинакового размера)"
   ]
  },
  {
   "cell_type": "code",
   "execution_count": 1205,
   "metadata": {},
   "outputs": [],
   "source": [
    "def vector_mean(vectors):\n",
    "    n = len(vectors)\n",
    "    return scalar_multiply(1/n, vector_sum(vectors))"
   ]
  },
  {
   "cell_type": "code",
   "execution_count": 1206,
   "metadata": {},
   "outputs": [
    {
     "data": {
      "text/plain": [
       "[4.0, 4.666666666666666]"
      ]
     },
     "execution_count": 1206,
     "metadata": {},
     "output_type": "execute_result"
    }
   ],
   "source": [
    "vector_mean([[1,2],[1,2],[10,10]])"
   ]
  },
  {
   "cell_type": "markdown",
   "metadata": {},
   "source": [
    "Вычисление скалярного произведения. \n",
    "Скалярное произведение - сумма двух векторов их покомпонентных произведений"
   ]
  },
  {
   "cell_type": "code",
   "execution_count": 1207,
   "metadata": {},
   "outputs": [],
   "source": [
    "def dot(v,w):\n",
    "    return sum(v_i * w_i\n",
    "              for v_i , w_i in zip(v,w))"
   ]
  },
  {
   "cell_type": "code",
   "execution_count": 1208,
   "metadata": {},
   "outputs": [
    {
     "data": {
      "text/plain": [
       "2"
      ]
     },
     "execution_count": 1208,
     "metadata": {},
     "output_type": "execute_result"
    }
   ],
   "source": [
    "dot([1,1],[1,1])"
   ]
  },
  {
   "cell_type": "markdown",
   "metadata": {},
   "source": [
    "Вычисление суммы квадратов вектора"
   ]
  },
  {
   "cell_type": "code",
   "execution_count": 1209,
   "metadata": {},
   "outputs": [],
   "source": [
    "def sum_of_squares(v):\n",
    "    return dot(v,v)"
   ]
  },
  {
   "cell_type": "code",
   "execution_count": 1210,
   "metadata": {},
   "outputs": [
    {
     "data": {
      "text/plain": [
       "8"
      ]
     },
     "execution_count": 1210,
     "metadata": {},
     "output_type": "execute_result"
    }
   ],
   "source": [
    "sum_of_squares([2,2])"
   ]
  },
  {
   "cell_type": "markdown",
   "metadata": {},
   "source": [
    "Вычисление величины(длинны) вектора"
   ]
  },
  {
   "cell_type": "code",
   "execution_count": 1211,
   "metadata": {},
   "outputs": [],
   "source": [
    "def magnitude(v):\n",
    "    return math.sqrt(sum_of_squares(v))"
   ]
  },
  {
   "cell_type": "code",
   "execution_count": 1212,
   "metadata": {},
   "outputs": [
    {
     "data": {
      "text/plain": [
       "2.8284271247461903"
      ]
     },
     "execution_count": 1212,
     "metadata": {},
     "output_type": "execute_result"
    }
   ],
   "source": [
    "magnitude([2,2])"
   ]
  },
  {
   "attachments": {
    "_auto_0": {
     "image/png": "[encoded data removed]"
    }
   },
   "cell_type": "markdown",
   "metadata": {},
   "source": [
    "#### Растстояние между двумя векторами по формуле\n",
    "> ![_auto_0](attachment:_auto_0)"
   ]
  },
  {
   "cell_type": "markdown",
   "metadata": {},
   "source": [
    "Квадрат расстояние между двумя векторами"
   ]
  },
  {
   "cell_type": "code",
   "execution_count": 1213,
   "metadata": {},
   "outputs": [],
   "source": [
    "def squared_distance(v,w):\n",
    "    return sum_of_squares(vector_subtract(v,w))"
   ]
  },
  {
   "cell_type": "code",
   "execution_count": 1214,
   "metadata": {},
   "outputs": [
    {
     "data": {
      "text/plain": [
       "0"
      ]
     },
     "execution_count": 1214,
     "metadata": {},
     "output_type": "execute_result"
    }
   ],
   "source": [
    "squared_distance([2,2],[2,2])"
   ]
  },
  {
   "cell_type": "markdown",
   "metadata": {},
   "source": [
    "расстояние между двумя векторами"
   ]
  },
  {
   "cell_type": "code",
   "execution_count": 1215,
   "metadata": {},
   "outputs": [],
   "source": [
    "def distance(v,w):\n",
    "    return math.sqrt(squared_distance(v,w))"
   ]
  },
  {
   "cell_type": "code",
   "execution_count": 1216,
   "metadata": {},
   "outputs": [
    {
     "data": {
      "text/plain": [
       "19.79898987322333"
      ]
     },
     "execution_count": 1216,
     "metadata": {},
     "output_type": "execute_result"
    }
   ],
   "source": [
    "distance([15,1],[1,15])"
   ]
  },
  {
   "cell_type": "markdown",
   "metadata": {},
   "source": [
    "# Матрицы"
   ]
  },
  {
   "cell_type": "markdown",
   "metadata": {},
   "source": [
    "Образование формы матрицы:\n"
   ]
  },
  {
   "cell_type": "code",
   "execution_count": 1217,
   "metadata": {},
   "outputs": [],
   "source": [
    "def shape(A):\n",
    "    num_rows = len(A)\n",
    "    num_cols = len(A[0]) if A else 0\n",
    "    return num_rows , num_cols"
   ]
  },
  {
   "cell_type": "code",
   "execution_count": 1218,
   "metadata": {},
   "outputs": [
    {
     "data": {
      "text/plain": [
       "(3, 3)"
      ]
     },
     "execution_count": 1218,
     "metadata": {},
     "output_type": "execute_result"
    }
   ],
   "source": [
    "Matrix = [[1,1,1],\n",
    "          [0,1,0],\n",
    "          [1,0,1]]\n",
    "shape(Matrix)"
   ]
  },
  {
   "cell_type": "markdown",
   "metadata": {},
   "source": [
    "Получение строк и столбцов матрицы"
   ]
  },
  {
   "cell_type": "code",
   "execution_count": 1219,
   "metadata": {},
   "outputs": [],
   "source": [
    "def get_row(A,i):\n",
    "    '''Get i matrix row'''\n",
    "    return A[i]\n",
    "def get_column(A,j):\n",
    "    '''Get j matrix column'''\n",
    "    return [A_i[j]\n",
    "           for A_i in A]"
   ]
  },
  {
   "cell_type": "code",
   "execution_count": 1220,
   "metadata": {},
   "outputs": [],
   "source": [
    "A = [[1,0,1],\n",
    "    [0,1,0],\n",
    "    [1,0,1]]"
   ]
  },
  {
   "cell_type": "code",
   "execution_count": 1221,
   "metadata": {},
   "outputs": [
    {
     "data": {
      "text/plain": [
       "[0, 1, 0]"
      ]
     },
     "execution_count": 1221,
     "metadata": {},
     "output_type": "execute_result"
    }
   ],
   "source": [
    "get_row(A,1)"
   ]
  },
  {
   "cell_type": "code",
   "execution_count": 1222,
   "metadata": {},
   "outputs": [
    {
     "data": {
      "text/plain": [
       "[1, 0, 1]"
      ]
     },
     "execution_count": 1222,
     "metadata": {},
     "output_type": "execute_result"
    }
   ],
   "source": [
    "get_column(A,0)"
   ]
  },
  {
   "cell_type": "markdown",
   "metadata": {},
   "source": [
    "Генерация Матрицы по размеру"
   ]
  },
  {
   "cell_type": "code",
   "execution_count": 1223,
   "metadata": {},
   "outputs": [],
   "source": [
    "def make_matrix(num_rows,num_cols,entry_fn):\n",
    "    '''Matrix generation by num_rows, num_cols and entry function'''\n",
    "    return [[entry_fn(i,j)\n",
    "           for j in range(num_cols)]\n",
    "           for i in range(num_rows)]"
   ]
  },
  {
   "cell_type": "markdown",
   "metadata": {},
   "source": [
    "Входная функция для функции генерации представленной выше, которая\n",
    "позволяет генерировать единичную матрицу(единицы по диагонали)"
   ]
  },
  {
   "cell_type": "code",
   "execution_count": 1224,
   "metadata": {},
   "outputs": [],
   "source": [
    "def is_diagonal(i,j):\n",
    "    return 1 if i == j else 0"
   ]
  },
  {
   "cell_type": "code",
   "execution_count": 1225,
   "metadata": {},
   "outputs": [],
   "source": [
    "identity_matrix = make_matrix(3,3, is_diagonal)"
   ]
  },
  {
   "cell_type": "code",
   "execution_count": 1226,
   "metadata": {},
   "outputs": [
    {
     "data": {
      "text/plain": [
       "[[1, 0, 0], [0, 1, 0], [0, 0, 1]]"
      ]
     },
     "execution_count": 1226,
     "metadata": {},
     "output_type": "execute_result"
    }
   ],
   "source": [
    "identity_matrix"
   ]
  },
  {
   "cell_type": "markdown",
   "metadata": {},
   "source": [
    "Матрицы мы можем использовать для представления набора данных, состоящего из нескольких векторов, рассматривая каждую строку матрицы в качестве вектора. Например, если имеются данные о росте, весе и возрасте n количества человек, то их можно представить в виде матрицы n x 3. "
   ]
  },
  {
   "cell_type": "code",
   "execution_count": 1227,
   "metadata": {},
   "outputs": [],
   "source": [
    "#Пример для примечание выше в случае с данными о трёх особях\n",
    "data = [[175,68,40],\n",
    "        [163,64,26],\n",
    "        [193,78,19]]"
   ]
  },
  {
   "cell_type": "markdown",
   "metadata": {},
   "source": [
    "Матрицу размера n x k можно использовать в качестве линейной функции, которая отображает k-мерные векторы в n-мерные. Некоторые методы и концепции при анализе данных будут использовать подобные функции."
   ]
  },
  {
   "cell_type": "markdown",
   "metadata": {},
   "source": [
    "### Матрицу \n",
    "также можно использовать для двоичного представления дружеских связей. Например в социальной сети друзей можно представить в виде множества пар\n",
    "(i,j). Альтернативная реализация подразумевает создание матрицы смежности, т.е такой матрицы А, что элемент А[i][j] равен 1, если узлы i и j связаны между собой и следовательно 0 в противных случаях."
   ]
  },
  {
   "cell_type": "code",
   "execution_count": 1228,
   "metadata": {},
   "outputs": [],
   "source": [
    "#Вид взаимосвязей между аккаунтами приведённом в начале примечания выше\n",
    "friendships = [(0,1),(0,2),(1,2),(1,3),(2,3),(3,4),\n",
    "              (4,5),(5,6),(5,7),(6,8),(7,8),(8,9)]"
   ]
  },
  {
   "cell_type": "code",
   "execution_count": 1229,
   "metadata": {},
   "outputs": [],
   "source": [
    "#Вид взаимосвязей между аккаунтами приведнном\n",
    "#с помощью матрицы из примечания выше\n",
    "\n",
    "# пользователь: 1 2 3 4 5\n",
    "friendships = [[0,1,1,1,0],\n",
    "               [1,0,1,0,1],\n",
    "               [1,0,1,1,1],\n",
    "               [0,1,1,1,0],\n",
    "               [0,1,1,0,0],]\n",
    "\n",
    "#При отсутсвии каких либо взаимосвязей:\n",
    "\n",
    "friendships = [[0,0,0,0,0],\n",
    "               [0,0,0,0,0],\n",
    "               [0,0,0,0,0],\n",
    "               [0,0,0,0,0],\n",
    "               [0,0,0,0,0],]\n",
    "\n",
    "#Все друг с другом дружат:\n",
    "\n",
    "friendships = [[1,1,1,1,1],\n",
    "               [1,1,1,1,1],\n",
    "               [1,1,1,1,1],\n",
    "               [1,1,1,1,1],\n",
    "               [1,1,1,1,1],]"
   ]
  },
  {
   "cell_type": "markdown",
   "metadata": {},
   "source": [
    "# СТАТИСТИКА"
   ]
  },
  {
   "cell_type": "markdown",
   "metadata": {},
   "source": [
    "## Описание одиночного набора данных\n",
    "\n",
    "Любой набор данных очевидным образом характеризует сам себя"
   ]
  },
  {
   "cell_type": "code",
   "execution_count": 1230,
   "metadata": {},
   "outputs": [],
   "source": [
    "# Число друзей\n",
    "num_friends = [100,49,41,40,25]\n",
    "\n",
    "#будем использовать далее случайным образом сгенерированную выборку \n",
    "#данных для наглядности\n",
    "\n",
    "#примечание: в данном примере не будет использоваться библиотека numpy\n",
    "#которую зачастую для подобных задач и используют\n",
    "\n",
    "num_friends = []\n",
    "for i in range(0,100):\n",
    "    n = rnd.randint(5,100)\n",
    "    num_friends.append(n)\n",
    "#print(num_friends)"
   ]
  },
  {
   "cell_type": "markdown",
   "metadata": {},
   "source": [
    "Такое описание может оказаться наилучшим для сравнительного небольшого набора данных. Но для более объемного набора данных это будет выглядеть очень громоздко и, скорее всего, непрозрачно.\n",
    "\n",
    "Просто представьте , что у вас перед глазами список и 1 млн чисел.\n",
    "По этой причине пользуются статистиками(стат.показателями), при помощи которых обобщают и передают информацию о существенных признаках, присутствующих в данных."
   ]
  },
  {
   "cell_type": "markdown",
   "metadata": {},
   "source": [
    "Вначале вы помещаете количество друзей на гистограмму, испольуя словарь Counter и метод plt.bar"
   ]
  },
  {
   "cell_type": "code",
   "execution_count": 1231,
   "metadata": {},
   "outputs": [
    {
     "name": "stdout",
     "output_type": "stream",
     "text": [
      "Counter({17: 6, 7: 5, 35: 4, 65: 3, 33: 3, 22: 3, 28: 3, 23: 2, 48: 2, 14: 2, 42: 2, 24: 2, 89: 2, 40: 2, 55: 2, 70: 2, 49: 2, 66: 2, 76: 2, 78: 2, 98: 2, 85: 2, 41: 2, 47: 2, 72: 2, 11: 1, 81: 1, 10: 1, 79: 1, 51: 1, 86: 1, 77: 1, 61: 1, 52: 1, 91: 1, 34: 1, 58: 1, 9: 1, 56: 1, 45: 1, 82: 1, 18: 1, 88: 1, 59: 1, 39: 1, 15: 1, 36: 1, 50: 1, 64: 1, 71: 1, 63: 1, 95: 1, 32: 1, 37: 1, 16: 1, 25: 1, 83: 1, 13: 1, 6: 1, 92: 1, 96: 1, 26: 1})\n"
     ]
    },
    {
     "data": {
      "image/png": "[encoded data removed]",
      "text/plain": [
       "<Figure size 432x288 with 1 Axes>"
      ]
     },
     "metadata": {
      "needs_background": "light"
     },
     "output_type": "display_data"
    }
   ],
   "source": [
    "friend_counts = clt.Counter(num_friends)\n",
    "print(friend_counts)\n",
    "xs = range(101)                     # максимальное значение 100\n",
    "ys = [friend_counts[x] for x in xs] # высота - количество друзей\n",
    "plt.bar(xs,ys)\n",
    "plt.axis([0,101,0,25])\n",
    "plt.title('Гистограмма количества друзей')\n",
    "plt.xlabel('Количество друзей')\n",
    "plt.ylabel('Количество людей')\n",
    "plt.show()"
   ]
  },
  {
   "attachments": {
    "image.png": {
     "image/png": "[encoded data removed]"
    }
   },
   "cell_type": "markdown",
   "metadata": {},
   "source": [
    "\n",
    "\n",
    "![image.png](attachment:image.png)\n",
    "\n",
    "На диаграмме выше красным выделены самые \"дружелюбные\", однако в некоторых случаях подобные данные можно считать за аномальные, в сравнении с общей тенденцией.\n",
    "\n",
    "К сожалению, эта диаграмма мало информативна, поэтмоу мы приступим к форматированию некоторых статистик.\n",
    "\n",
    "самый простой статистикой является число точек данных:"
   ]
  },
  {
   "cell_type": "code",
   "execution_count": 1232,
   "metadata": {},
   "outputs": [],
   "source": [
    "num_points = len(num_friends) # число точек"
   ]
  },
  {
   "cell_type": "code",
   "execution_count": 1233,
   "metadata": {},
   "outputs": [
    {
     "data": {
      "text/plain": [
       "100"
      ]
     },
     "execution_count": 1233,
     "metadata": {},
     "output_type": "execute_result"
    }
   ],
   "source": [
    "num_points"
   ]
  },
  {
   "cell_type": "markdown",
   "metadata": {},
   "source": [
    "Кроме этого, могут быть интересны наибольшие и наименьшие значения:"
   ]
  },
  {
   "cell_type": "code",
   "execution_count": 1234,
   "metadata": {},
   "outputs": [
    {
     "name": "stdout",
     "output_type": "stream",
     "text": [
      "98\n",
      "6\n"
     ]
    }
   ],
   "source": [
    "largest_value = max(num_friends)\n",
    "print(largest_value)\n",
    "smallest_value = min(num_friends)\n",
    "print(smallest_value)"
   ]
  },
  {
   "cell_type": "markdown",
   "metadata": {},
   "source": [
    "А также полезными могут быть:"
   ]
  },
  {
   "cell_type": "code",
   "execution_count": 1235,
   "metadata": {},
   "outputs": [],
   "source": [
    "sorted_values = sorted(num_friends) #Отсортированные значение\n",
    "smallest_value = sorted_values[0] #Минимум отсортированного списка\n",
    "second_smallest_value = sorted_values[1] #Следующий минимум\n",
    "second_largest_value = sorted_values[-2] #Второй максимум с конца"
   ]
  },
  {
   "cell_type": "code",
   "execution_count": 1236,
   "metadata": {},
   "outputs": [
    {
     "name": "stdout",
     "output_type": "stream",
     "text": [
      "[6, 7, 7, 7, 7, 7, 9, 10, 11, 13, 14, 14, 15, 16, 17, 17, 17, 17, 17, 17, 18, 22, 22, 22, 23, 23, 24, 24, 25, 26, 28, 28, 28, 32, 33, 33, 33, 34, 35, 35, 35, 35, 36, 37, 39, 40, 40, 41, 41, 42, 42, 45, 47, 47, 48, 48, 49, 49, 50, 51, 52, 55, 55, 56, 58, 59, 61, 63, 64, 65, 65, 65, 66, 66, 70, 70, 71, 72, 72, 76, 76, 77, 78, 78, 79, 81, 82, 83, 85, 85, 86, 88, 89, 89, 91, 92, 95, 96, 98, 98] \n",
      " min =  6 \n",
      " second smallest =  7 \n",
      " second largest =  98\n"
     ]
    }
   ],
   "source": [
    "print(sorted_values, '\\n', 'min = ',smallest_value,\n",
    "      '\\n second smallest = ',second_smallest_value,\n",
    "      '\\n second largest = ',second_largest_value,)"
   ]
  },
  {
   "cell_type": "markdown",
   "metadata": {},
   "source": [
    "## Показатели центра распределения "
   ]
  },
  {
   "cell_type": "markdown",
   "metadata": {},
   "source": [
    "Обычно мы хотим иметь некоторое предствавление о том, где находится центр данных. Чаще всего для этих целей используется среднее(или среденее арифметическое) значение, которое берется как сумма данных, деленная на их количество."
   ]
  },
  {
   "cell_type": "code",
   "execution_count": 1237,
   "metadata": {},
   "outputs": [],
   "source": [
    "# среднее значение\n",
    "def mean(x):\n",
    "    return sum(x) / len(x)"
   ]
  },
  {
   "cell_type": "code",
   "execution_count": 1238,
   "metadata": {},
   "outputs": [
    {
     "data": {
      "text/plain": [
       "46.62"
      ]
     },
     "execution_count": 1238,
     "metadata": {},
     "output_type": "execute_result"
    }
   ],
   "source": [
    "mean(num_friends)"
   ]
  },
  {
   "cell_type": "markdown",
   "metadata": {},
   "source": [
    "Для двух точек средней является точка, лежащая посередине между ними. По мере добавление других точек срендеее значение будет смещаться в разные стороны, в зависимости от значения каждого новой точки"
   ]
  },
  {
   "cell_type": "markdown",
   "metadata": {},
   "source": [
    "Кроме среднего значнеие, иногда может понадобиться медиана, которая является ближайщим к центру значением (если число точек данных нечетное) либо средним арифметическим, взятым как полусумма двух ближайщих к центру значнией(если число точек чётное)."
   ]
  },
  {
   "cell_type": "markdown",
   "metadata": {},
   "source": [
    "##### обратите внимание \n",
    "Медиана, в отличии от среднего значего - не зависит от каждого значение в наборе данных. Например, если сделать наибольшую точку еще больше( или найменьшую точку еще меньше), то срединные точки останутся неизменными, следовательно, и медиана не изменится."
   ]
  },
  {
   "cell_type": "markdown",
   "metadata": {},
   "source": [
    "Функция вычисления медианы имеет более сложную реализацию, чем можно было бы ожидать, в основном из-за того, что приходится учитывать случай с четностью:"
   ]
  },
  {
   "cell_type": "code",
   "execution_count": 1239,
   "metadata": {},
   "outputs": [],
   "source": [
    "def median(v):\n",
    "    '''Возвращает ближайшее к середине значение для v'''\n",
    "    n = len(v)\n",
    "    sorted_v = sorted(v)\n",
    "    midpoint = n // 2 # Индекс серединного значения\n",
    "    \n",
    "    if n % 2 == 1:\n",
    "        #Если нечетное, вернуть серединное значение\n",
    "        return sorted_v[midpoint]\n",
    "    else:\n",
    "        #Если четное, вернуть среднее 2=х серединных значений\n",
    "        lo = midpoint - 1\n",
    "        hi = midpoint\n",
    "        return(sorted_v[lo] + sorted_v[hi]) / 2\n"
   ]
  },
  {
   "cell_type": "code",
   "execution_count": 1240,
   "metadata": {},
   "outputs": [
    {
     "data": {
      "text/plain": [
       "42.0"
      ]
     },
     "execution_count": 1240,
     "metadata": {},
     "output_type": "execute_result"
    }
   ],
   "source": [
    "median(num_friends)"
   ]
  },
  {
   "cell_type": "markdown",
   "metadata": {},
   "source": [
    "Среднее значение, конечно, вычисляется проще, и оно несколько варьирует по мере изменения данных. Если у нас есть n точек, и одна из них увелиилась на любое малое число e , то среднее обязательно увеличится на e/n. (Этот факт делает его подверженным разного рода ухищрениям при калькуляции)\n",
    "А для того чтобы найти медиану, данные нужно сперва отсортировать, и изменение одной из точек на любое малое число e может увиличить медиану на величину равную e, меньшую чем е, либо не изменить совсем( в зависимости от набора данных).\n"
   ]
  },
  {
   "cell_type": "code",
   "execution_count": 1241,
   "metadata": {},
   "outputs": [
    {
     "name": "stdout",
     "output_type": "stream",
     "text": [
      "14 \n",
      " 23 \n",
      " 70 \n",
      " 86 \n",
      "\n"
     ]
    }
   ],
   "source": [
    "#Квантиль\n",
    "\n",
    "def quantile(x,p):\n",
    "    '''Возвращает значение в х , соответсвующее р-ому проценту данных'''\n",
    "    p_index = int(p*len(x))\n",
    "    return sorted(x)[p_index]\n",
    "\n",
    "print(quantile(num_friends,0.10), '\\n',\n",
    "      quantile(num_friends,0.25), '\\n',\n",
    "      quantile(num_friends,0.75), '\\n',\n",
    "      quantile(num_friends,0.90), '\\n',)"
   ]
  },
  {
   "cell_type": "markdown",
   "metadata": {},
   "source": [
    "Реже испольщуют моду - значение или значения, которые встречаются наиболее часто:"
   ]
  },
  {
   "cell_type": "code",
   "execution_count": 1242,
   "metadata": {},
   "outputs": [
    {
     "name": "stdout",
     "output_type": "stream",
     "text": [
      "[17]\n"
     ]
    }
   ],
   "source": [
    "#Мода\n",
    "def mode(x):\n",
    "    counts = clt.Counter(x)\n",
    "    max_count = max(counts.values())\n",
    "    return [x_i for x_i, count in counts.items()\n",
    "           if count == max_count]\n",
    "print(mode(num_friends))"
   ]
  },
  {
   "cell_type": "markdown",
   "metadata": {},
   "source": [
    "## Показатели вариации\n",
    "\n",
    "Показатели вариации отражают меру изменчивости данных. Как правило, это статистические показатели, для которых значения, близкие к нулю, означиют полное отсутсвие изменчиваости, а большие значения(чтобы это ни означало) - очени большую изменчивость. Например, самым простым показателем является размах, который определяется как разница между максимальным и минимальным значениями данных:"
   ]
  },
  {
   "cell_type": "code",
   "execution_count": 1243,
   "metadata": {},
   "outputs": [
    {
     "data": {
      "text/plain": [
       "92"
      ]
     },
     "execution_count": 1243,
     "metadata": {},
     "output_type": "execute_result"
    }
   ],
   "source": [
    "#рамзах\n",
    "#слово range в Python уже используется, поэтмоу берем другое\n",
    "def data_range(x):\n",
    "    return max(x) - min(x)\n",
    "data_range(num_friends)"
   ]
  },
  {
   "cell_type": "markdown",
   "metadata": {},
   "source": [
    "Размах равен нулю, когда max и min одинаковые, что происходит только  тогда, когда все элементы х равны между собой, и значит, изменчивость в данных отсутствует. И наоборот, когда размах широкий, то максимальное много больше минимального, и изменчивость в данных высокая."
   ]
  },
  {
   "cell_type": "markdown",
   "metadata": {},
   "source": [
    "Более точным показателем вариации является дисперсия, вычисляемаема как:"
   ]
  },
  {
   "cell_type": "code",
   "execution_count": 1244,
   "metadata": {},
   "outputs": [],
   "source": [
    "#Сумма квадратов\n",
    "def sum_of_squares(x):\n",
    "    return sum(x * x for x in x)\n",
    "\n",
    "#Вариация\n",
    "def variance(x):\n",
    "    n=len(x)\n",
    "    deviations = de_mean(x)    \n",
    "    return sum_of_squares(deviations) / (n-1)"
   ]
  },
  {
   "cell_type": "markdown",
   "metadata": {},
   "source": [
    "При этом, в каких бы единицах ни измерялись данные (в \"друзьях\", например), все показатели центра распределения вычиляются в тех же самых единицах измерения. Аналогичная ситуация и с размахом. Дисперсия же измеряется в единицах, которые представляют собой квадрат исходных единиц(\"Друзья в квадрате\"). \n",
    "Поскольку такие единицы измерения трудно интерпретировать, то вместо дисперсии мы будем чаще обращаться к стандартному отклонению( корень из дисперсии ): "
   ]
  },
  {
   "cell_type": "code",
   "execution_count": 1245,
   "metadata": {},
   "outputs": [],
   "source": [
    " #стандартное отклонение\n",
    "\n",
    "def standard_deviation(x):\n",
    "    return math.sqrt(variance(x))"
   ]
  },
  {
   "cell_type": "code",
   "execution_count": 1246,
   "metadata": {},
   "outputs": [
    {
     "data": {
      "text/plain": [
       "26.9754021885184"
      ]
     },
     "execution_count": 1246,
     "metadata": {},
     "output_type": "execute_result"
    }
   ],
   "source": [
    "standard_deviation(num_friends)"
   ]
  },
  {
   "cell_type": "markdown",
   "metadata": {},
   "source": [
    "Размах и стандартное отклонение так же чувствительны к выбросам, как и среднее. На том же самом примере, если бы у самого дружелюбного пользователя было 200 друзей вместо 100, то стандартное отклонение было бы на 60% больше.\n",
    "\n",
    "Более надежной альтернативой является вычисление интерквартильного размаха или разности между значнием, соответствующим 75% и значением, соотвествующим 25% данных:"
   ]
  },
  {
   "cell_type": "code",
   "execution_count": 1247,
   "metadata": {},
   "outputs": [
    {
     "data": {
      "text/plain": [
       "47"
      ]
     },
     "execution_count": 1247,
     "metadata": {},
     "output_type": "execute_result"
    }
   ],
   "source": [
    "# интерквартильный размах\n",
    "\n",
    "def interquartile_range(x):\n",
    "    return quantile(x,0.75) - quantile(x,0.25)\n",
    "\n",
    "interquartile_range(num_friends)"
   ]
  },
  {
   "cell_type": "markdown",
   "metadata": {},
   "source": [
    "## Корреляция"
   ]
  },
  {
   "cell_type": "markdown",
   "metadata": {},
   "source": [
    "Корреляция - взаимная связь, соотношение"
   ]
  },
  {
   "cell_type": "markdown",
   "metadata": {},
   "source": [
    "Сперва обратимся к ковариации - парному аналогу дисперсии. В отличие от дсперсии, коорая измеряет отклонение одной переменной от ее среднего, ковариация измеряет совместное отклонение двух переменныъ от своих средних.\n",
    "\n",
    "Будем разбиратьсоя на случайно сгенерированном массиве данных о времени посещения каждым пользователем сайта и количестве друзей."
   ]
  },
  {
   "cell_type": "code",
   "execution_count": 1261,
   "metadata": {},
   "outputs": [
    {
     "name": "stdout",
     "output_type": "stream",
     "text": [
      "[41, 11, 32, 39, 34, 34, 24, 31, 11, 35, 50, 41, 42, 48, 32, 20, 47, 3, 4, 43, 28, 27, 3, 14, 24, 6, 8, 39, 44, 13, 3, 29, 18, 5, 28, 39, 16, 28, 50, 10, 26, 24, 41, 7, 48, 47, 0, 44, 44, 31, 43, 29, 21, 35, 7, 10, 6, 44, 20, 13, 31, 32, 29, 9, 19, 37, 23, 22, 3, 38, 1, 47, 43, 30, 40, 12, 39, 41, 42, 1, 36, 40, 48, 9, 46, 36, 15, 12, 19, 20, 2, 20, 13, 24, 6, 13, 0, 11, 50, 30]\n",
      "[6, 7, 7, 7, 7, 7, 9, 10, 11, 13, 14, 14, 15, 16, 17, 17, 17, 17, 17, 17, 18, 22, 22, 22, 23, 23, 24, 24, 25, 26, 28, 28, 28, 32, 33, 33, 33, 34, 35, 35, 35, 35, 36, 37, 39, 40, 40, 41, 41, 42, 42, 45, 47, 47, 48, 48, 49, 49, 50, 51, 52, 55, 55, 56, 58, 59, 61, 63, 64, 65, 65, 65, 66, 66, 70, 70, 71, 72, 72, 76, 76, 77, 78, 78, 79, 81, 82, 83, 85, 85, 86, 88, 89, 89, 91, 92, 95, 96, 98, 98]\n"
     ]
    }
   ],
   "source": [
    "num_time = []\n",
    "for i in range(0,100):\n",
    "    n = rnd.randint(0,50)\n",
    "    num_time.append(n)\n",
    "\n",
    "\n",
    "#num_time = sorted(num_time) #Отсортированные значение\n",
    "#rnd.shuffle(num_time)\n",
    "print(num_time)\n",
    "\n",
    "num_friends = sorted(num_friends)\n",
    "print(num_friends)"
   ]
  },
  {
   "cell_type": "code",
   "execution_count": 1262,
   "metadata": {},
   "outputs": [
    {
     "data": {
      "text/plain": [
       "727.6723232323233"
      ]
     },
     "execution_count": 1262,
     "metadata": {},
     "output_type": "execute_result"
    }
   ],
   "source": [
    "def covariance(x,y):\n",
    "    '''Ковариация между х и у'''\n",
    "    n = len(x)\n",
    "    return dot(de_mean(x), de_mean(y)) / (n-1)\n",
    "\n",
    "covariance(num_friends, num_friends)"
   ]
  },
  {
   "cell_type": "markdown",
   "metadata": {},
   "source": [
    "Когда соответсующие элементы векторов х и у оба одновременно выше или ниже своих средних, то в сумму входит положительное число. Когда один из них находится выше своего среднего, а другой - ниже, то в сумму входит отрицательное число. \n",
    "\n",
    "### следовательно\n",
    "\"Большая\" положительная ковариация означает, что х стремится принимать большие значение при больших значенияъ у и малые значения - при малых значениях у. \"Большая\" отрицательная ковариация означает обратное - х стремится приимать малые значения при большом у и наоборот.\n",
    "!Ковариация, близкая к нулю, означает, что такой связи не существует."
   ]
  },
  {
   "cell_type": "markdown",
   "metadata": {},
   "source": [
    "Тем не менее, этот показатель бывает трудно интерпретировать, и вот почему:\n",
    "\n",
    "* Единицами измерения ковариации являются произведения единиц входящих переменных(например, число друзей и минуты в день), которые трудно понять (что такое \"друг в минуту в день?\")\n",
    "\n",
    "* Если бы у каждого пользователя было в 2 раза больше друзей (но такое же количество минут, проведённых на сайте), то ковариация была бы в 2 раза больше. Однако в некотором смысле степень взаимосвязи между ними осталась бы на прежнем уровне. Говоря иначе, трудно определить, что считать \"большой\" ковариацией.\n",
    "\n",
    "Поэтому чаще обращаются к корреляции, в которой ковариация распределяется между стандартными отклонениями обеих переменных:"
   ]
  },
  {
   "cell_type": "code",
   "execution_count": 1263,
   "metadata": {},
   "outputs": [
    {
     "data": {
      "text/plain": [
       "-0.12634066170463623"
      ]
     },
     "execution_count": 1263,
     "metadata": {},
     "output_type": "execute_result"
    }
   ],
   "source": [
    "#Корреляция\n",
    "def correlation(x,y):\n",
    "    \"\"\"Определение корреляции между двумя массивами данных.\n",
    "    Передаёт ноль в случае отсутсвия созависимости\"\"\"\n",
    "    stdev_x = standard_deviation(x)\n",
    "    stdev_y = standard_deviation(y)\n",
    "    if stdev_x > 0 and stdev_y >0:\n",
    "        return covariance(x,y) / stdev_x / stdev_y\n",
    "    else:\n",
    "        return 0 # если переменные не меняются, то корреляция равна нулю\n",
    "    \n",
    "correlation(num_friends, num_time)"
   ]
  },
  {
   "cell_type": "markdown",
   "metadata": {},
   "source": [
    "Корреляция является безразмерной величиной, её значения всегда лежат между -1 (идеальная антикорреляция) и 1 (идеальная корреляция). Так, в случае выше с ~0.06 (в моем случае вышел именно такой результат, ибо он основывается на ранее случайно сгенерированных данных, в вашем случае будет иначе) результат представляет собой относительно очень слабую положительную корреляцию.\n",
    "\n",
    "Однако нам нужно эти данные проверить. \n",
    "\n",
    "Человек, у которого 100 друзей, но проводит он на сайте всего одну минуту в день является аномалией и подлежит очистке из набора данных."
   ]
  },
  {
   "cell_type": "code",
   "execution_count": 1266,
   "metadata": {},
   "outputs": [
    {
     "ename": "ValueError",
     "evalue": "100 is not in list",
     "output_type": "error",
     "traceback": [
      "\u001b[1;31m---------------------------------------------------------------------------\u001b[0m",
      "\u001b[1;31mValueError\u001b[0m                                Traceback (most recent call last)",
      "\u001b[1;32m<ipython-input-1266-6e5850e41097>\u001b[0m in \u001b[0;36m<module>\u001b[1;34m\u001b[0m\n\u001b[1;32m----> 1\u001b[1;33m \u001b[0moutlier\u001b[0m \u001b[1;33m=\u001b[0m \u001b[0mnum_friends\u001b[0m\u001b[1;33m.\u001b[0m\u001b[0mindex\u001b[0m\u001b[1;33m(\u001b[0m\u001b[1;36m100\u001b[0m\u001b[1;33m)\u001b[0m \u001b[1;31m#Индекс аномалии\u001b[0m\u001b[1;33m\u001b[0m\u001b[1;33m\u001b[0m\u001b[0m\n\u001b[0m\u001b[0;32m      2\u001b[0m \u001b[1;33m\u001b[0m\u001b[0m\n\u001b[0;32m      3\u001b[0m \u001b[1;31m#фильтрация\u001b[0m\u001b[1;33m\u001b[0m\u001b[1;33m\u001b[0m\u001b[1;33m\u001b[0m\u001b[0m\n\u001b[0;32m      4\u001b[0m num_friends_good = [x\n\u001b[0;32m      5\u001b[0m                    \u001b[1;32mfor\u001b[0m \u001b[0mi\u001b[0m\u001b[1;33m,\u001b[0m \u001b[0mx\u001b[0m \u001b[1;32min\u001b[0m \u001b[0menumerate\u001b[0m\u001b[1;33m(\u001b[0m\u001b[0mnum_friends\u001b[0m\u001b[1;33m)\u001b[0m\u001b[1;33m\u001b[0m\u001b[1;33m\u001b[0m\u001b[0m\n",
      "\u001b[1;31mValueError\u001b[0m: 100 is not in list"
     ]
    }
   ],
   "source": [
    "outlier = num_friends.index(100) #Индекс аномалии\n",
    "\n",
    "#фильтрация\n",
    "num_friends_good = [x\n",
    "                   for i, x in enumerate(num_friends)\n",
    "                   if i != outlier]\n",
    "daily_minutes_good = [x\n",
    "                     for i,x in enumerate(num_time)\n",
    "                     if i != outlier]\n",
    "correlation(num_friends_good, daily_minutes_good)"
   ]
  },
  {
   "cell_type": "code",
   "execution_count": 1267,
   "metadata": {},
   "outputs": [
    {
     "data": {
      "text/plain": [
       "<function matplotlib.pyplot.show(*args, **kw)>"
      ]
     },
     "execution_count": 1267,
     "metadata": {},
     "output_type": "execute_result"
    },
    {
     "data": {
      "image/png": "[encoded data removed]",
      "text/plain": [
       "<Figure size 432x288 with 1 Axes>"
      ]
     },
     "metadata": {
      "needs_background": "light"
     },
     "output_type": "display_data"
    }
   ],
   "source": [
    "plt.scatter(num_friends, num_time)\n",
    "plt.show\n",
    "plt.scatter(num_friends_good, daily_minutes_good, color='red')\n",
    "plt.show"
   ]
  },
  {
   "cell_type": "markdown",
   "metadata": {},
   "source": [
    "# Теория вероятностей\n",
    "\n",
    "Два события Е и F являются зависимыми, если какое-то знание о наступлении события Е дает нам информацию о наступлении события F, и наоборот. В противном случае они независимые.\n",
    "\n",
    "Например, если мы дважды бросаем уравновешенную монету, то знание о том, что в первый раз выпадет орел, не дает никакой информации о том, что орел выпадает и во второй раз. Эти события независимые. С другой стороны, знание о том, что в первый раз выпадет орел, определенно, дает нам информацию о том, выпадут ли решки оба раза. (Если в первый раз выпадет орел, то, конечно же, исключаем случай, когда оба раза выпадают решки). Оба эти события зависимые.\n",
    "\n",
    "С точки зрения математики, говорят, что два события E и F независимы, если вероятность их совместного наступления равна произведению вероятностей их наступления по отдельности:\n",
    "\n",
    "> P(E,F) = P(E)P(F)\n",
    "\n",
    "В примере с бросанием монеты вероятность события, что в первый раз выпадет орел, равна 1/2, вероятность события, что оба раза выпадут решки, равна 1/4, а вероятность, что в первый раз выпадет орел и оба раза выпадут решки, равна нулю."
   ]
  },
  {
   "cell_type": "markdown",
   "metadata": {},
   "source": [
    "##Условная вероятность\n",
    "\n",
    "Повторим: когда два события E и F независимы, то по определению вероятность их совместного наступления равна P(E,F) = P(E)P(F)\n",
    "\n",
    "Если же они являются зависимыми( и при этом вероятность F не равна 0) , то условная вероятность события Е при условии события F определяется так:\n",
    "\n",
    "> P(E|F) = P(E,F) / P(F)\n",
    "\n",
    "Под этим понимается вероятность наступления события Е при условии, что известно о наступлении события F"
   ]
  },
  {
   "cell_type": "code",
   "execution_count": null,
   "metadata": {},
   "outputs": [],
   "source": []
  }
 ],
 "metadata": {
  "kernelspec": {
   "display_name": "Python 3",
   "language": "python",
   "name": "python3"
  },
  "language_info": {
   "codemirror_mode": {
    "name": "ipython",
    "version": 3
   },
   "file_extension": ".py",
   "mimetype": "text/x-python",
   "name": "python",
   "nbconvert_exporter": "python",
   "pygments_lexer": "ipython3",
   "version": "3.7.4"
  }
 },
 "nbformat": 4,
 "nbformat_minor": 4
}
